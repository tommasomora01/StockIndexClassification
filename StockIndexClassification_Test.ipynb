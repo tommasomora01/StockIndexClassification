{
  "nbformat": 4,
  "nbformat_minor": 0,
  "metadata": {
    "colab": {
      "provenance": [],
      "authorship_tag": "ABX9TyMH1BWKhdYgZyrwS7LdVri+",
      "include_colab_link": true
    },
    "kernelspec": {
      "name": "python3",
      "display_name": "Python 3"
    },
    "language_info": {
      "name": "python"
    }
  },
  "cells": [
    {
      "cell_type": "markdown",
      "metadata": {
        "id": "view-in-github",
        "colab_type": "text"
      },
      "source": [
        "<a href=\"https://colab.research.google.com/github/tommasomora01/StockIndexClassification/blob/main/StockIndexClassification_Test.ipynb\" target=\"_parent\"><img src=\"https://colab.research.google.com/assets/colab-badge.svg\" alt=\"Open In Colab\"/></a>"
      ]
    },
    {
      "cell_type": "code",
      "execution_count": 16,
      "metadata": {
        "colab": {
          "base_uri": "https://localhost:8080/"
        },
        "id": "XOrcvfczjoqT",
        "outputId": "804f84d1-84c0-455f-ea59-46170a538727"
      },
      "outputs": [
        {
          "output_type": "stream",
          "name": "stdout",
          "text": [
            "Directory \"/content/StockIndexClassification\" rimossa.\n",
            "Cloning into 'StockIndexClassification'...\n",
            "remote: Enumerating objects: 659, done.\u001b[K\n",
            "remote: Counting objects: 100% (659/659), done.\u001b[K\n",
            "remote: Compressing objects: 100% (487/487), done.\u001b[K\n",
            "remote: Total 659 (delta 202), reused 596 (delta 166), pack-reused 0 (from 0)\u001b[K\n",
            "Receiving objects: 100% (659/659), 10.85 MiB | 20.46 MiB/s, done.\n",
            "Resolving deltas: 100% (202/202), done.\n",
            "Drive already mounted at /content/drive; to attempt to forcibly remount, call drive.mount(\"/content/drive\", force_remount=True).\n",
            "            SPX Index    VIX  MOVE Index  10Y-2Y %  OAS HY\\n( vs GOV)  \\\n",
            "Data                                                                    \n",
            "2001-01-02  1299.3655  29.99      113.93   0.00054           0.086520   \n",
            "2001-01-03  1364.6333  26.60      112.96   0.00229           0.085028   \n",
            "2001-01-04  1350.2664  26.97      114.51   0.00252           0.085185   \n",
            "2001-01-05  1314.8405  28.67      117.05   0.00362           0.085383   \n",
            "2001-01-08  1312.5920  29.84      119.37   0.00396           0.085498   \n",
            "\n",
            "              E_EXP    OIL  US Breakeven 10 Y  Return \\n1 month  \\\n",
            "Data                                                              \n",
            "2001-01-02  54.9447  27.21             1.3159         -0.023489   \n",
            "2001-01-03  54.9537  28.00             1.5127          0.018017   \n",
            "2001-01-04  54.9371  28.14             1.4614         -0.030449   \n",
            "2001-01-05  54.9203  27.95             1.4425         -0.038554   \n",
            "2001-01-08  54.9138  27.32             1.5037         -0.034575   \n",
            "\n",
            "            Return 3 month  Return 1Y  Vol 1 month\\nStorica  \\\n",
            "Data                                                          \n",
            "2001-01-02       -0.103915  -0.107983              0.263440   \n",
            "2001-01-03       -0.052482  -0.025855              0.313173   \n",
            "2001-01-04       -0.067724  -0.038044              0.314778   \n",
            "2001-01-05       -0.093585  -0.064363              0.297054   \n",
            "2001-01-08       -0.077610  -0.090599              0.292046   \n",
            "\n",
            "            Vol 3 month\\nStorica  Vol  1Y\\nStorica  \n",
            "Data                                                \n",
            "2001-01-02              0.237381          0.219581  \n",
            "2001-01-03              0.257735          0.224932  \n",
            "2001-01-04              0.258170          0.222012  \n",
            "2001-01-05              0.262483          0.223483  \n",
            "2001-01-08              0.262424          0.223485  \n",
            "            SPX Index    VIX  MOVE Index\n",
            "Data                                    \n",
            "2001-01-02  1299.3655  29.99      113.93\n",
            "2001-01-03  1364.6333  26.60      112.96\n",
            "2001-01-04  1350.2664  26.97      114.51\n",
            "2001-01-05  1314.8405  28.67      117.05\n",
            "2001-01-08  1312.5920  29.84      119.37\n",
            "/content/drive/MyDrive/StockPrediction/models_saved\n",
            "/content/drive/MyDrive/StockPrediction/log_saved\n"
          ]
        }
      ],
      "source": [
        "import shutil\n",
        "import os\n",
        "directory = '/content/StockIndexClassification'\n",
        "\n",
        "# Verifica se la directory esiste\n",
        "if os.path.exists(directory):\n",
        "    # Rimuovi la directory e il suo contenuto\n",
        "    shutil.rmtree(directory)\n",
        "    print(f'Directory \"{directory}\" rimossa.')\n",
        "else:\n",
        "    print(f'Directory \"{directory}\" non esiste.')\n",
        "!git clone https://github.com/tommasomora01/StockIndexClassification.git\n",
        "%run /content/StockIndexClassification/StockIndexClassification_COLABnew.ipynb"
      ]
    },
    {
      "cell_type": "code",
      "source": [
        "from google.colab import drive\n",
        "import os\n",
        "drive.mount('/content/drive')\n",
        "base_path = '/content/drive/MyDrive/StockPrediction'\n",
        "config_file_path = '/content/drive/MyDrive/StockPrediction/config.json'\n",
        "folders = ['/content/drive/MyDrive/StockPrediction/models_saved', '/content/drive/MyDrive/StockPrediction/log_saved', '/content/drive/MyDrive/StockPrediction/log_model']"
      ],
      "metadata": {
        "colab": {
          "base_uri": "https://localhost:8080/"
        },
        "id": "fSAGAfYWkJ0V",
        "outputId": "5ddd41e5-506c-411a-83c0-cbc96c9d2b49"
      },
      "execution_count": 17,
      "outputs": [
        {
          "output_type": "stream",
          "name": "stdout",
          "text": [
            "Drive already mounted at /content/drive; to attempt to forcibly remount, call drive.mount(\"/content/drive\", force_remount=True).\n"
          ]
        }
      ]
    },
    {
      "cell_type": "code",
      "source": [
        "import torch\n",
        "import torch.nn as nn\n",
        "import torch.optim as optim\n",
        "from torchsummary import summary\n",
        "from torch.utils.data import Dataset, DataLoader\n",
        "import numpy as np\n",
        "from sklearn.metrics import accuracy_score\n",
        "\n",
        "import pandas as pd\n",
        "\n",
        "import matplotlib.pyplot as plt\n",
        "from torch.nn.functional import mse_loss\n",
        "from typing import (Tuple)\n",
        "import numpy as np\n"
      ],
      "metadata": {
        "id": "btgdDgkbkSaq"
      },
      "execution_count": 18,
      "outputs": []
    },
    {
      "cell_type": "code",
      "source": [],
      "metadata": {
        "id": "gTrSgJQom5Y1"
      },
      "execution_count": 18,
      "outputs": []
    },
    {
      "cell_type": "code",
      "source": [
        "\n",
        "dataset = pd.read_excel(\"/content/drive/MyDrive/StockPrediction/model_data.xlsx\", sheet_name=\"DATA\")\n",
        "\n",
        "config = load_config(config_file_path)\n",
        "\n",
        "dataset = dataset.set_index('Data')\n",
        "\n",
        "cleared_dataset = dataset.dropna()\n"
      ],
      "metadata": {
        "id": "lc4zO9gZkV_N"
      },
      "execution_count": 19,
      "outputs": []
    },
    {
      "cell_type": "code",
      "source": [
        "year_start = config['dataset_params']['year_start']\n",
        "month_start = config['dataset_params']['month_start']\n",
        "year_end = config['dataset_params']['year_end']\n",
        "month_end = config['dataset_params']['month_end']\n",
        "\n",
        "dataset_handler = DatasetHandler(normalized_df,year_start=year_start,month_start=month_start,year_end=year_end,month_end=month_end)\n",
        "train_model_dataset , _ = dataset_handler.split_dataset()"
      ],
      "metadata": {
        "id": "Ymcpi6FaoU16"
      },
      "execution_count": 20,
      "outputs": []
    },
    {
      "cell_type": "code",
      "source": [
        "train_inputs = train_model_dataset.iloc[:,:]\n",
        "folders[0] = os.path.join(folders[0],\"dataset_2019_2022\")\n",
        "folders[1] = os.path.join(folders[1],\"dataset_2019_2022\")\n",
        "print(type(train_inputs))\n",
        "print(train_inputs.shape)\n",
        "\n",
        "\n",
        "X_train_tensor = torch.tensor(train_inputs.to_numpy())\n",
        "\n",
        "print(type(X_train_tensor))"
      ],
      "metadata": {
        "colab": {
          "base_uri": "https://localhost:8080/"
        },
        "id": "fvRlzkPAo8k7",
        "outputId": "eeb61936-ccea-440d-8467-a026f1f08dbc"
      },
      "execution_count": 21,
      "outputs": [
        {
          "output_type": "stream",
          "name": "stdout",
          "text": [
            "<class 'pandas.core.frame.DataFrame'>\n",
            "(1174, 14)\n",
            "<class 'torch.Tensor'>\n"
          ]
        }
      ]
    },
    {
      "cell_type": "code",
      "source": [
        "sequence_length = config['dataset_params']['sequence_length']\n",
        "offset = config['dataset_params']['offset']\n",
        "distance_pred = config['dataset_params']['distance_pred']\n",
        "output_size = config['model_params']['output_size']\n",
        "learning_rate = config['model_params']['learning_rate']\n",
        "num_epochs = config['model_params']['num_epochs']\n",
        "batch_size = config['model_params']['batch_size']\n",
        "\n",
        "folders[0] = os.path.join(folders[0],f\"{distance_pred}gg\")\n",
        "folders[1] = os.path.join(folders[1],f\"{distance_pred}gg\")"
      ],
      "metadata": {
        "id": "y8ksyKzCpLyj"
      },
      "execution_count": 22,
      "outputs": []
    },
    {
      "cell_type": "code",
      "source": [
        "dataset = SequenceDataset(train_inputs, sequence_length=sequence_length, offset=offset,distance_pred=distance_pred)\n",
        "dataset.show_sequence(plot_mode=True)\n",
        "# Split train-test\n",
        "train_size = int(0.8 * len(dataset))\n",
        "test_size = len(dataset) - train_size\n",
        "train_dataset, test_dataset = torch.utils.data.random_split(dataset, [train_size, test_size])\n",
        "# Creazione dei DataLoader\n",
        "train_loader = DataLoader(train_dataset, batch_size=batch_size, shuffle=False)\n",
        "test_loader = DataLoader(test_dataset, batch_size=batch_size, shuffle=False)\n",
        "for inputs in train_loader:\n",
        "  print(inputs[0].shape)\n",
        "  print(inputs[1].shape)\n",
        "  break\n",
        "for inputs in test_loader:\n",
        "    print(inputs[0].shape)\n",
        "    print(inputs[1].shape)\n",
        "    break"
      ],
      "metadata": {
        "colab": {
          "base_uri": "https://localhost:8080/",
          "height": 492
        },
        "id": "FSfLK3-3qKTz",
        "outputId": "0c9130ef-3ff5-4a9a-9842-071dd0e9fd4b"
      },
      "execution_count": 23,
      "outputs": [
        {
          "output_type": "stream",
          "name": "stdout",
          "text": [
            "Num DOWN = 304, 28.842504743833018% (inf = -0.1) ;Num NEUTRAL = 22, 2.0872865275142316%  ; Num UP = 728, 69.07020872865274% (sup = 0.7)\n"
          ]
        },
        {
          "output_type": "display_data",
          "data": {
            "text/plain": [
              "<Figure size 1800x500 with 1 Axes>"
            ],
            "image/png": "[encoded data removed]"
          },
          "metadata": {}
        },
        {
          "output_type": "stream",
          "name": "stdout",
          "text": [
            "torch.Size([6, 30, 14])\n",
            "torch.Size([6])\n",
            "torch.Size([6, 30, 14])\n",
            "torch.Size([6])\n"
          ]
        }
      ]
    },
    {
      "cell_type": "code",
      "source": [
        "model_dim = config['model_params']['dimension']\n",
        "d_model = config['model_params']['d_model']\n",
        "n_head = config['model_params']['n_head']\n",
        "dim_feedforward = config['model_params']['dim_feedforward']\n",
        "num_layers = config['model_params']['num_layers']\n",
        "kernel_size = config['model_params']['kernel_size']\n",
        "early_stopping_patience = config['model_params']['early_stopping_patience']\n",
        "early_stopping_delta = config['model_params']['early_stopping_delta']\n"
      ],
      "metadata": {
        "id": "ahShodesvwsT"
      },
      "execution_count": 24,
      "outputs": []
    },
    {
      "cell_type": "code",
      "source": [
        "print(os.path.join(folders[2],f\"log_modelli_{model_dim}Model_datasetSmall_{distance_pred}gg.csv\"))\n",
        "log_model_path = os.path.join(folders[2],f\"log_modelli_{model_dim}Model_datasetSmall_{distance_pred}gg.csv\")\n",
        "if os.path.exists(log_model_path):\n",
        "    # Read the first row of the CSV to extract the model name\n",
        "    log_df = pd.read_csv(log_model_path)\n",
        "    model_file = log_df.iloc[0]['model_file']  # Assuming the column is named 'model_name'\n",
        "\n",
        "    print(f\"Model file extracted: {model_file}\")\n",
        "\n",
        "    d_model = log_df.iloc[0]['D_Model']\n",
        "    n_head = log_df.iloc[0]['N_Head']\n",
        "    dim_feedforward = log_df.iloc[0]['FF_Dim']\n",
        "    num_layers = log_df.iloc[0]['Num_Layers']\n",
        "    kernel_size = log_df.iloc[0]['Kernel_Size']\n",
        "    # Construct the path to the model file\n",
        "    model_file_path = os.path.join(folders[0], model_file)\n",
        "\n"
      ],
      "metadata": {
        "id": "B26CF4151zjp",
        "colab": {
          "base_uri": "https://localhost:8080/"
        },
        "outputId": "8e80e787-55bf-4897-f95b-f8c34f6efb21"
      },
      "execution_count": 15,
      "outputs": [
        {
          "output_type": "stream",
          "name": "stdout",
          "text": [
            "/content/drive/MyDrive/StockPrediction/log_model/log_modelli_smallModel_datasetSmall_90gg.csv\n"
          ]
        }
      ]
    },
    {
      "cell_type": "code",
      "source": [
        "# Creazione del modello\n",
        "model = TimeSeriesModel(train_inputs.shape[-1], output_size,\"small\",d_model = d_model, n_head= n_head, dim_feedforward= dim_feedforward, num_layers=num_layers, kernel_size=kernel_size)\n",
        "model.load_state_dict(torch.load(model_file_path))\n",
        "\n",
        "for m in model.modules():\n",
        "    if isinstance(m, (nn.Conv1d, nn.Conv2d, nn.Conv3d, nn.Linear)):\n",
        "        nn.init.kaiming_normal_(m.weight, nonlinearity='relu')  # For ReLU activation\n",
        "    if isinstance(m, (nn.TransformerEncoderLayer)):\n",
        "        nn.init.xavier_uniform_(m.linear1.weight)\n",
        "        nn.init.xavier_uniform_(m.linear2.weight)\n",
        "\n",
        "print(model)\n"
      ],
      "metadata": {
        "colab": {
          "base_uri": "https://localhost:8080/",
          "height": 293
        },
        "id": "b3cyxRFZvl6S",
        "outputId": "593e2304-b0e6-466b-e7ba-988cc0e91906"
      },
      "execution_count": 25,
      "outputs": [
        {
          "output_type": "stream",
          "name": "stderr",
          "text": [
            "/usr/local/lib/python3.10/dist-packages/torch/nn/modules/transformer.py:379: UserWarning: enable_nested_tensor is True, but self.use_nested_tensor is False because encoder_layer.self_attn.batch_first was not True(use batch_first for better inference performance)\n",
            "  warnings.warn(\n"
          ]
        },
        {
          "output_type": "error",
          "ename": "NameError",
          "evalue": "name 'model_file_path' is not defined",
          "traceback": [
            "\u001b[0;31m---------------------------------------------------------------------------\u001b[0m",
            "\u001b[0;31mNameError\u001b[0m                                 Traceback (most recent call last)",
            "\u001b[0;32m<ipython-input-25-343def99d137>\u001b[0m in \u001b[0;36m<cell line: 3>\u001b[0;34m()\u001b[0m\n\u001b[1;32m      1\u001b[0m \u001b[0;31m# Creazione del modello\u001b[0m\u001b[0;34m\u001b[0m\u001b[0;34m\u001b[0m\u001b[0m\n\u001b[1;32m      2\u001b[0m \u001b[0mmodel\u001b[0m \u001b[0;34m=\u001b[0m \u001b[0mTimeSeriesModel\u001b[0m\u001b[0;34m(\u001b[0m\u001b[0mtrain_inputs\u001b[0m\u001b[0;34m.\u001b[0m\u001b[0mshape\u001b[0m\u001b[0;34m[\u001b[0m\u001b[0;34m-\u001b[0m\u001b[0;36m1\u001b[0m\u001b[0;34m]\u001b[0m\u001b[0;34m,\u001b[0m \u001b[0moutput_size\u001b[0m\u001b[0;34m,\u001b[0m\u001b[0;34m\"small\"\u001b[0m\u001b[0;34m,\u001b[0m\u001b[0md_model\u001b[0m \u001b[0;34m=\u001b[0m \u001b[0md_model\u001b[0m\u001b[0;34m,\u001b[0m \u001b[0mn_head\u001b[0m\u001b[0;34m=\u001b[0m \u001b[0mn_head\u001b[0m\u001b[0;34m,\u001b[0m \u001b[0mdim_feedforward\u001b[0m\u001b[0;34m=\u001b[0m \u001b[0mdim_feedforward\u001b[0m\u001b[0;34m,\u001b[0m \u001b[0mnum_layers\u001b[0m\u001b[0;34m=\u001b[0m\u001b[0mnum_layers\u001b[0m\u001b[0;34m,\u001b[0m \u001b[0mkernel_size\u001b[0m\u001b[0;34m=\u001b[0m\u001b[0mkernel_size\u001b[0m\u001b[0;34m)\u001b[0m\u001b[0;34m\u001b[0m\u001b[0;34m\u001b[0m\u001b[0m\n\u001b[0;32m----> 3\u001b[0;31m \u001b[0mmodel\u001b[0m\u001b[0;34m.\u001b[0m\u001b[0mload_state_dict\u001b[0m\u001b[0;34m(\u001b[0m\u001b[0mtorch\u001b[0m\u001b[0;34m.\u001b[0m\u001b[0mload\u001b[0m\u001b[0;34m(\u001b[0m\u001b[0mmodel_file_path\u001b[0m\u001b[0;34m)\u001b[0m\u001b[0;34m)\u001b[0m\u001b[0;34m\u001b[0m\u001b[0;34m\u001b[0m\u001b[0m\n\u001b[0m\u001b[1;32m      4\u001b[0m \u001b[0;34m\u001b[0m\u001b[0m\n\u001b[1;32m      5\u001b[0m \u001b[0;32mfor\u001b[0m \u001b[0mm\u001b[0m \u001b[0;32min\u001b[0m \u001b[0mmodel\u001b[0m\u001b[0;34m.\u001b[0m\u001b[0mmodules\u001b[0m\u001b[0;34m(\u001b[0m\u001b[0;34m)\u001b[0m\u001b[0;34m:\u001b[0m\u001b[0;34m\u001b[0m\u001b[0;34m\u001b[0m\u001b[0m\n",
            "\u001b[0;31mNameError\u001b[0m: name 'model_file_path' is not defined"
          ]
        }
      ]
    },
    {
      "cell_type": "code",
      "source": [
        "device = torch.device(\"cuda\" if torch.cuda.is_available() else \"cpu\")\n",
        "model.to(device)\n",
        "\n",
        "# # Definizione della loss e dell'optimizer\n",
        "criterion = nn.CrossEntropyLoss()\n",
        "optimizer = optim.Adam(model.parameters(), lr=learning_rate)\n",
        "early_stopping = EarlyStopping(delta=early_stopping_delta, patience=early_stopping_patience)"
      ],
      "metadata": {
        "id": "IgOc7-1qwbi8"
      },
      "execution_count": null,
      "outputs": []
    },
    {
      "cell_type": "code",
      "source": [
        "# Valutazione del modello sul test set\n",
        "test_accuracy, all_predictions, all_targets = evaluate_model(model, test_loader, device)\n",
        "# #test_accuracy, all_predictions, all_targets = evaluate_model(model, test_loader, device)\n",
        "print(f\"Accuracy sul test set: {test_accuracy:.4f}\")"
      ],
      "metadata": {
        "id": "hSoxAyYOxAOP"
      },
      "execution_count": null,
      "outputs": []
    },
    {
      "cell_type": "code",
      "source": [
        "from sklearn.metrics import confusion_matrix\n",
        "import matplotlib.pyplot as plt\n",
        "import seaborn as sns\n",
        "\n",
        "\n",
        "# Calcolare la matrice di confusione\n",
        "cm = confusion_matrix(all_targets, all_predictions)\n",
        "\n",
        "# Visualizzare la matrice di confusione\n",
        "plt.figure(figsize=(6, 4))\n",
        "sns.heatmap(cm, annot=True, fmt='d', cmap='Blues', xticklabels=['Down', 'Neutral', 'Up'], yticklabels=['Down', 'Neutral', 'Up'])\n",
        "plt.ylabel('True Label')\n",
        "plt.xlabel('Predicted Label')\n",
        "plt.title('Confusion Matrix')\n",
        "plt.show()\n",
        "\n",
        "# Stampa la matrice di confusione\n",
        "print(\"Matrice di Confusione:\")\n",
        "print(cm)"
      ],
      "metadata": {
        "id": "5WXJQqYFxGK-"
      },
      "execution_count": null,
      "outputs": []
    }
  ]
}