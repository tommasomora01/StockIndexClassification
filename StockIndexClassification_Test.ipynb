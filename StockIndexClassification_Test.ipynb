{
  "nbformat": 4,
  "nbformat_minor": 0,
  "metadata": {
    "colab": {
      "provenance": [],
      "authorship_tag": "ABX9TyMX26hanjYOpsbnF5zBffk0",
      "include_colab_link": true
    },
    "kernelspec": {
      "name": "python3",
      "display_name": "Python 3"
    },
    "language_info": {
      "name": "python"
    }
  },
  "cells": [
    {
      "cell_type": "markdown",
      "metadata": {
        "id": "view-in-github",
        "colab_type": "text"
      },
      "source": [
        "<a href=\"https://colab.research.google.com/github/tommasomora01/StockIndexClassification/blob/main/StockIndexClassification_Test.ipynb\" target=\"_parent\"><img src=\"https://colab.research.google.com/assets/colab-badge.svg\" alt=\"Open In Colab\"/></a>"
      ]
    },
    {
      "cell_type": "code",
      "execution_count": 76,
      "metadata": {
        "colab": {
          "base_uri": "https://localhost:8080/"
        },
        "id": "XOrcvfczjoqT",
        "outputId": "5da4ea79-4e29-411d-a36f-7ad998825b70"
      },
      "outputs": [
        {
          "output_type": "stream",
          "name": "stdout",
          "text": [
            "Directory \"/content/StockIndexClassification\" rimossa.\n",
            "Cloning into 'StockIndexClassification'...\n",
            "remote: Enumerating objects: 699, done.\u001b[K\n",
            "remote: Counting objects: 100% (699/699), done.\u001b[K\n",
            "remote: Compressing objects: 100% (527/527), done.\u001b[K\n",
            "remote: Total 699 (delta 226), reused 596 (delta 166), pack-reused 0 (from 0)\u001b[K\n",
            "Receiving objects: 100% (699/699), 11.05 MiB | 10.59 MiB/s, done.\n",
            "Resolving deltas: 100% (226/226), done.\n",
            "Drive already mounted at /content/drive; to attempt to forcibly remount, call drive.mount(\"/content/drive\", force_remount=True).\n",
            "            SPX Index    VIX  MOVE Index  10Y-2Y %  OAS HY\\n( vs GOV)  \\\n",
            "Data                                                                    \n",
            "2001-01-02  1299.3655  29.99      113.93   0.00054           0.086520   \n",
            "2001-01-03  1364.6333  26.60      112.96   0.00229           0.085028   \n",
            "2001-01-04  1350.2664  26.97      114.51   0.00252           0.085185   \n",
            "2001-01-05  1314.8405  28.67      117.05   0.00362           0.085383   \n",
            "2001-01-08  1312.5920  29.84      119.37   0.00396           0.085498   \n",
            "\n",
            "              E_EXP    OIL  US Breakeven 10 Y  Return \\n1 month  \\\n",
            "Data                                                              \n",
            "2001-01-02  54.9447  27.21             1.3159         -0.023489   \n",
            "2001-01-03  54.9537  28.00             1.5127          0.018017   \n",
            "2001-01-04  54.9371  28.14             1.4614         -0.030449   \n",
            "2001-01-05  54.9203  27.95             1.4425         -0.038554   \n",
            "2001-01-08  54.9138  27.32             1.5037         -0.034575   \n",
            "\n",
            "            Return 3 month  Return 1Y  Vol 1 month\\nStorica  \\\n",
            "Data                                                          \n",
            "2001-01-02       -0.103915  -0.107983              0.263440   \n",
            "2001-01-03       -0.052482  -0.025855              0.313173   \n",
            "2001-01-04       -0.067724  -0.038044              0.314778   \n",
            "2001-01-05       -0.093585  -0.064363              0.297054   \n",
            "2001-01-08       -0.077610  -0.090599              0.292046   \n",
            "\n",
            "            Vol 3 month\\nStorica  Vol  1Y\\nStorica  \n",
            "Data                                                \n",
            "2001-01-02              0.237381          0.219581  \n",
            "2001-01-03              0.257735          0.224932  \n",
            "2001-01-04              0.258170          0.222012  \n",
            "2001-01-05              0.262483          0.223483  \n",
            "2001-01-08              0.262424          0.223485  \n",
            "            SPX Index    VIX  MOVE Index\n",
            "Data                                    \n",
            "2001-01-02  1299.3655  29.99      113.93\n",
            "2001-01-03  1364.6333  26.60      112.96\n",
            "2001-01-04  1350.2664  26.97      114.51\n",
            "2001-01-05  1314.8405  28.67      117.05\n",
            "2001-01-08  1312.5920  29.84      119.37\n",
            "/content/drive/MyDrive/StockPrediction/models_saved\n",
            "/content/drive/MyDrive/StockPrediction/log_saved\n"
          ]
        }
      ],
      "source": [
        "import shutil\n",
        "import os\n",
        "directory = '/content/StockIndexClassification'\n",
        "\n",
        "# Verifica se la directory esiste\n",
        "if os.path.exists(directory):\n",
        "    # Rimuovi la directory e il suo contenuto\n",
        "    shutil.rmtree(directory)\n",
        "    print(f'Directory \"{directory}\" rimossa.')\n",
        "else:\n",
        "    print(f'Directory \"{directory}\" non esiste.')\n",
        "!git clone https://github.com/tommasomora01/StockIndexClassification.git\n",
        "%run /content/StockIndexClassification/StockIndexClassification_COLABnew.ipynb"
      ]
    },
    {
      "cell_type": "code",
      "source": [
        "from google.colab import drive\n",
        "import os\n",
        "drive.mount('/content/drive')\n",
        "base_path = '/content/drive/MyDrive/StockPrediction'\n",
        "config_file_path = '/content/drive/MyDrive/StockPrediction/config.json'\n",
        "folders = ['/content/drive/MyDrive/StockPrediction/models_saved', '/content/drive/MyDrive/StockPrediction/log_saved', '/content/drive/MyDrive/StockPrediction/log_model']"
      ],
      "metadata": {
        "colab": {
          "base_uri": "https://localhost:8080/"
        },
        "id": "fSAGAfYWkJ0V",
        "outputId": "1b2b5044-0133-41f1-c2f7-d93ba0b3d098"
      },
      "execution_count": 77,
      "outputs": [
        {
          "output_type": "stream",
          "name": "stdout",
          "text": [
            "Drive already mounted at /content/drive; to attempt to forcibly remount, call drive.mount(\"/content/drive\", force_remount=True).\n"
          ]
        }
      ]
    },
    {
      "cell_type": "code",
      "source": [
        "import torch\n",
        "import torch.nn as nn\n",
        "import torch.optim as optim\n",
        "from torchsummary import summary\n",
        "from torch.utils.data import Dataset, DataLoader\n",
        "import numpy as np\n",
        "from sklearn.metrics import accuracy_score\n",
        "\n",
        "import pandas as pd\n",
        "\n",
        "import matplotlib.pyplot as plt\n",
        "from torch.nn.functional import mse_loss\n",
        "from typing import (Tuple)\n",
        "import numpy as np\n"
      ],
      "metadata": {
        "id": "btgdDgkbkSaq"
      },
      "execution_count": 78,
      "outputs": []
    },
    {
      "cell_type": "code",
      "source": [],
      "metadata": {
        "id": "gTrSgJQom5Y1"
      },
      "execution_count": 78,
      "outputs": []
    },
    {
      "cell_type": "code",
      "source": [
        "\n",
        "dataset = pd.read_excel(\"/content/drive/MyDrive/StockPrediction/model_data.xlsx\", sheet_name=\"DATA\")\n",
        "\n",
        "config = load_config(config_file_path)\n",
        "\n",
        "dataset = dataset.set_index('Data')\n",
        "\n",
        "cleared_dataset = dataset.dropna()\n"
      ],
      "metadata": {
        "id": "lc4zO9gZkV_N"
      },
      "execution_count": 79,
      "outputs": []
    },
    {
      "cell_type": "code",
      "source": [
        "year_start = config['dataset_params']['year_start']\n",
        "month_start = config['dataset_params']['month_start']\n",
        "year_end = config['dataset_params']['year_end']\n",
        "month_end = config['dataset_params']['month_end']\n",
        "\n",
        "dataset_handler = DatasetHandler(normalized_df,year_start=year_start,month_start=month_start,year_end=year_end,month_end=month_end)\n",
        "train_model_dataset , _ = dataset_handler.split_dataset()"
      ],
      "metadata": {
        "id": "Ymcpi6FaoU16"
      },
      "execution_count": 80,
      "outputs": []
    },
    {
      "cell_type": "code",
      "source": [
        "train_inputs = train_model_dataset.iloc[:,:]\n",
        "folders[0] = os.path.join(folders[0],\"dataset_2019_2022\")\n",
        "folders[1] = os.path.join(folders[1],\"dataset_2019_2022\")\n",
        "print(type(train_inputs))\n",
        "print(train_inputs.shape)\n",
        "\n",
        "\n",
        "X_train_tensor = torch.tensor(train_inputs.to_numpy())\n",
        "\n",
        "print(type(X_train_tensor))"
      ],
      "metadata": {
        "id": "fvRlzkPAo8k7",
        "colab": {
          "base_uri": "https://localhost:8080/"
        },
        "outputId": "7cab8598-a036-40ed-9977-d05385cccc12"
      },
      "execution_count": 81,
      "outputs": [
        {
          "output_type": "stream",
          "name": "stdout",
          "text": [
            "<class 'pandas.core.frame.DataFrame'>\n",
            "(1174, 14)\n",
            "<class 'torch.Tensor'>\n"
          ]
        }
      ]
    },
    {
      "cell_type": "code",
      "source": [
        "sequence_length = config['dataset_params']['sequence_length']\n",
        "offset = config['dataset_params']['offset']\n",
        "distance_pred = config['dataset_params']['distance_pred']\n",
        "output_size = config['model_params']['output_size']\n",
        "learning_rate = config['model_params']['learning_rate']\n",
        "num_epochs = config['model_params']['num_epochs']\n",
        "batch_size = config['model_params']['batch_size']\n",
        "\n",
        "folders[0] = os.path.join(folders[0],f\"{distance_pred}gg\")\n",
        "folders[1] = os.path.join(folders[1],f\"{distance_pred}gg\")"
      ],
      "metadata": {
        "id": "y8ksyKzCpLyj"
      },
      "execution_count": 82,
      "outputs": []
    },
    {
      "cell_type": "code",
      "source": [
        "dataset = SequenceDataset(train_inputs, sequence_length=sequence_length, offset=offset,distance_pred=distance_pred)\n",
        "dataset.show_sequence(plot_mode=True)\n",
        "# Creazione dei DataLoader\n",
        "test_loader = DataLoader(dataset, batch_size=batch_size, shuffle=False)\n",
        "for inputs in test_loader:\n",
        "    print(inputs[0].shape)\n",
        "    print(inputs[1].shape)\n",
        "    break"
      ],
      "metadata": {
        "id": "FSfLK3-3qKTz",
        "colab": {
          "base_uri": "https://localhost:8080/",
          "height": 561
        },
        "outputId": "5b2bb9dd-f34e-459f-ce8e-889c0c63f13f"
      },
      "execution_count": 83,
      "outputs": [
        {
          "output_type": "stream",
          "name": "stdout",
          "text": [
            "Num DOWN = 271, 25.711574952561673% (inf = -0.1) ;Num NEUTRAL = 376, 35.673624288425046%  ; Num UP = 407, 38.614800759013285% (sup = 10)\n"
          ]
        },
        {
          "output_type": "display_data",
          "data": {
            "text/plain": [
              "<Figure size 1000x500 with 1 Axes>"
            ],
            "image/png": "[encoded data removed]"
          },
          "metadata": {}
        },
        {
          "output_type": "stream",
          "name": "stdout",
          "text": [
            "torch.Size([6, 30, 14])\n",
            "torch.Size([6])\n"
          ]
        }
      ]
    },
    {
      "cell_type": "code",
      "source": [
        "model_dim = config['model_params']['dimension']\n",
        "d_model = config['model_params']['d_model']\n",
        "n_head = config['model_params']['n_head']\n",
        "dim_feedforward = config['model_params']['dim_feedforward']\n",
        "num_layers = config['model_params']['num_layers']\n",
        "kernel_size = config['model_params']['kernel_size']\n",
        "early_stopping_patience = config['model_params']['early_stopping_patience']\n",
        "early_stopping_delta = config['model_params']['early_stopping_delta']\n"
      ],
      "metadata": {
        "id": "ahShodesvwsT"
      },
      "execution_count": 84,
      "outputs": []
    },
    {
      "cell_type": "code",
      "source": [
        "log_model_path = os.path.join(folders[2],f\"log_modelli_{model_dim}Model_datasetSmall_{distance_pred}gg.csv\")\n",
        "if os.path.exists(log_model_path):\n",
        "    # Read the first row of the CSV to extract the model name\n",
        "    log_df = pd.read_csv(log_model_path)\n",
        "    model_file = log_df.iloc[0]['Model_File']  # Assuming the column is named 'model_name'\n",
        "\n",
        "    print(f\"Model file extracted: {model_file}\")\n",
        "\n",
        "    d_model = log_df.iloc[0]['D_Model']\n",
        "    n_head = log_df.iloc[0]['N_Head']\n",
        "    dim_feedforward = log_df.iloc[0]['FF_Dim']\n",
        "    num_layers = log_df.iloc[0]['Num_Layers']\n",
        "    kernel_size = log_df.iloc[0]['Kernel_Size']\n",
        "    # Construct the path to the model file\n",
        "    model_file_path = os.path.join(folders[0], model_file)\n",
        "\n"
      ],
      "metadata": {
        "id": "B26CF4151zjp",
        "colab": {
          "base_uri": "https://localhost:8080/"
        },
        "outputId": "6ffbc464-b403-4761-9062-6c2bb2bba890"
      },
      "execution_count": 85,
      "outputs": [
        {
          "output_type": "stream",
          "name": "stdout",
          "text": [
            "Model file extracted: model_bdd0fc70-6802-42a1-b530-1b6168554795.pt\n"
          ]
        }
      ]
    },
    {
      "cell_type": "code",
      "source": [
        "device = torch.device(\"cuda\" if torch.cuda.is_available() else \"cpu\")\n",
        "\n",
        "\n",
        "# Creazione del modello\n",
        "model = TimeSeriesModel(train_inputs.shape[-1], output_size,\"small\",d_model = d_model, n_head= n_head, dim_feedforward= dim_feedforward, num_layers=num_layers, kernel_size=kernel_size)\n",
        "model.load_state_dict(torch.load(model_file_path,map_location=device))\n",
        "\n",
        "for m in model.modules():\n",
        "    if isinstance(m, (nn.Conv1d, nn.Conv2d, nn.Conv3d, nn.Linear)):\n",
        "        nn.init.kaiming_normal_(m.weight, nonlinearity='relu')  # For ReLU activation\n",
        "    if isinstance(m, (nn.TransformerEncoderLayer)):\n",
        "        nn.init.xavier_uniform_(m.linear1.weight)\n",
        "        nn.init.xavier_uniform_(m.linear2.weight)\n",
        "model.to(device)\n"
      ],
      "metadata": {
        "id": "b3cyxRFZvl6S",
        "colab": {
          "base_uri": "https://localhost:8080/"
        },
        "outputId": "122817f4-f287-4674-bf2a-7aca672789eb"
      },
      "execution_count": 86,
      "outputs": [
        {
          "output_type": "stream",
          "name": "stderr",
          "text": [
            "/usr/local/lib/python3.10/dist-packages/torch/nn/modules/transformer.py:379: UserWarning: enable_nested_tensor is True, but self.use_nested_tensor is False because encoder_layer.self_attn.batch_first was not True(use batch_first for better inference performance)\n",
            "  warnings.warn(\n",
            "<ipython-input-86-25862ab638ce>:6: FutureWarning: You are using `torch.load` with `weights_only=False` (the current default value), which uses the default pickle module implicitly. It is possible to construct malicious pickle data which will execute arbitrary code during unpickling (See https://github.com/pytorch/pytorch/blob/main/SECURITY.md#untrusted-models for more details). In a future release, the default value for `weights_only` will be flipped to `True`. This limits the functions that could be executed during unpickling. Arbitrary objects will no longer be allowed to be loaded via this mode unless they are explicitly allowlisted by the user via `torch.serialization.add_safe_globals`. We recommend you start setting `weights_only=True` for any use case where you don't have full control of the loaded file. Please open an issue on GitHub for any issues related to this experimental feature.\n",
            "  model.load_state_dict(torch.load(model_file_path,map_location=device))\n"
          ]
        },
        {
          "output_type": "execute_result",
          "data": {
            "text/plain": [
              "TimeSeriesModel(\n",
              "  (conv1): Conv1d(14, 16, kernel_size=(1,), stride=(1,), padding=same, padding_mode=reflect)\n",
              "  (relu1): ReLU()\n",
              "  (transformer): TransformerEncoder(\n",
              "    (layers): ModuleList(\n",
              "      (0-1): 2 x TransformerEncoderLayer(\n",
              "        (self_attn): MultiheadAttention(\n",
              "          (out_proj): NonDynamicallyQuantizableLinear(in_features=16, out_features=16, bias=True)\n",
              "        )\n",
              "        (linear1): Linear(in_features=16, out_features=16, bias=True)\n",
              "        (dropout): Dropout(p=0.1, inplace=False)\n",
              "        (linear2): Linear(in_features=16, out_features=16, bias=True)\n",
              "        (norm1): LayerNorm((16,), eps=1e-05, elementwise_affine=True)\n",
              "        (norm2): LayerNorm((16,), eps=1e-05, elementwise_affine=True)\n",
              "        (dropout1): Dropout(p=0.1, inplace=False)\n",
              "        (dropout2): Dropout(p=0.1, inplace=False)\n",
              "      )\n",
              "    )\n",
              "  )\n",
              "  (relu2): ReLU()\n",
              "  (classification_layer): Linear(in_features=16, out_features=3, bias=True)\n",
              ")"
            ]
          },
          "metadata": {},
          "execution_count": 86
        }
      ]
    },
    {
      "cell_type": "code",
      "source": [
        "device = torch.device(\"cuda\" if torch.cuda.is_available() else \"cpu\")\n",
        "model.to(device)\n",
        "\n",
        "# # Definizione della loss e dell'optimizer\n",
        "criterion = nn.CrossEntropyLoss()\n",
        "optimizer = optim.Adam(model.parameters(), lr=learning_rate)\n",
        "early_stopping = EarlyStopping(delta=early_stopping_delta, patience=early_stopping_patience)"
      ],
      "metadata": {
        "id": "IgOc7-1qwbi8"
      },
      "execution_count": 87,
      "outputs": []
    },
    {
      "cell_type": "code",
      "source": [
        "# Valutazione del modello sul test set\n",
        "test_accuracy, all_predictions, all_targets = evaluate_model(model, test_loader, device)\n",
        "# #test_accuracy, all_predictions, all_targets = evaluate_model(model, test_loader, device)\n",
        "print(f\"Accuracy sul test set: {test_accuracy:.4f}\")"
      ],
      "metadata": {
        "id": "hSoxAyYOxAOP",
        "colab": {
          "base_uri": "https://localhost:8080/"
        },
        "outputId": "90c0f876-0f1e-4793-dd07-ef19a54454da"
      },
      "execution_count": 88,
      "outputs": [
        {
          "output_type": "stream",
          "name": "stdout",
          "text": [
            "all_predictions = \n",
            "[1, 1, 1, 1, 1, 1, 1, 1, 1, 1, 1, 1, 0, 0, 0, 0, 0, 0, 0, 0, 0, 0, 0, 0, 0, 0, 0, 0, 0, 0, 0, 0, 0, 0, 0, 0, 0, 0, 0, 0, 0, 0, 0, 0, 0, 0, 0, 0, 0, 0, 0, 0, 0, 0, 0, 0, 0, 0, 0, 0, 0, 0, 0, 0, 0, 0, 0, 0, 0, 0, 0, 0, 0, 0, 0, 0, 0, 0, 0, 0, 0, 0, 0, 0, 0, 0, 0, 0, 0, 0, 0, 0, 0, 0, 0, 0, 0, 0, 0, 0, 0, 0, 0, 0, 0, 0, 0, 0, 1, 1, 1, 1, 1, 0, 1, 1, 1, 1, 1, 1, 1, 1, 1, 1, 1, 1, 1, 1, 1, 1, 1, 1, 1, 1, 1, 1, 1, 1, 1, 1, 1, 1, 1, 1, 1, 1, 1, 1, 1, 1, 1, 1, 1, 1, 1, 1, 1, 1, 1, 1, 1, 1, 1, 1, 1, 1, 1, 1, 1, 1, 1, 1, 1, 1, 1, 1, 1, 1, 1, 1, 1, 1, 1, 1, 1, 1, 0, 0, 0, 0, 0, 0, 0, 0, 0, 0, 0, 0, 0, 0, 0, 0, 0, 0, 0, 0, 0, 0, 0, 0, 0, 0, 0, 0, 0, 0, 0, 0, 0, 0, 0, 0, 0, 0, 0, 0, 0, 0, 0, 0, 0, 0, 0, 0, 0, 0, 0, 0, 0, 0, 0, 0, 0, 0, 0, 0, 0, 0, 0, 0, 0, 0, 0, 0, 0, 0, 0, 0, 0, 0, 0, 0, 0, 0, 0, 0, 0, 0, 0, 0, 0, 0, 0, 0, 0, 0, 0, 0, 0, 0, 0, 0, 0, 0, 0, 0, 0, 0, 0, 0, 0, 0, 0, 0, 1, 1, 1, 1, 1, 1, 1, 1, 1, 1, 1, 1, 1, 1, 1, 1, 1, 1, 1, 1, 1, 1, 1, 1, 1, 1, 1, 1, 1, 1, 1, 1, 1, 1, 1, 1, 1, 1, 1, 1, 1, 1, 1, 1, 1, 1, 1, 1, 1, 1, 1, 1, 1, 1, 1, 1, 1, 1, 1, 1, 1, 1, 1, 1, 1, 1, 1, 1, 1, 1, 1, 1, 1, 1, 1, 1, 1, 1, 1, 1, 1, 1, 1, 1, 1, 1, 1, 1, 1, 1, 1, 1, 1, 1, 1, 1, 1, 1, 1, 1, 1, 1, 1, 1, 1, 1, 1, 1, 1, 1, 1, 1, 1, 1, 1, 1, 1, 1, 1, 1, 1, 1, 1, 1, 1, 1, 1, 1, 1, 1, 1, 1, 1, 1, 1, 1, 1, 1, 1, 1, 1, 1, 1, 1, 1, 1, 1, 1, 1, 1, 1, 1, 1, 1, 1, 1, 1, 1, 1, 1, 1, 1, 1, 1, 1, 1, 1, 1, 1, 1, 1, 1, 1, 1, 1, 1, 1, 1, 1, 1, 1, 1, 1, 1, 1, 1, 1, 1, 1, 1, 1, 1, 1, 1, 1, 1, 1, 1, 1, 1, 1, 1, 1, 1, 1, 1, 1, 1, 1, 1, 1, 1, 1, 1, 1, 1, 1, 1, 1, 1, 1, 1, 1, 1, 1, 1, 1, 1, 1, 1, 1, 1, 1, 1, 1, 1, 1, 1, 1, 1, 1, 1, 1, 1, 1, 1, 1, 1, 1, 1, 1, 1, 1, 1, 1, 1, 1, 0, 0, 0, 0, 0, 0, 0, 0, 0, 0, 0, 0, 0, 0, 0, 0, 0, 0, 0, 0, 0, 0, 0, 0, 0, 0, 0, 0, 0, 0, 0, 0, 0, 0, 0, 0, 0, 0, 0, 0, 0, 0, 0, 0, 0, 0, 0, 0, 0, 0, 0, 0, 0, 0, 0, 0, 0, 0, 0, 0, 0, 0, 0, 0, 0, 0, 0, 0, 0, 0, 0, 0, 0, 0, 0, 0, 0, 0, 0, 0, 0, 0, 0, 0, 0, 0, 0, 0, 0, 0, 0, 0, 0, 0, 0, 0, 0, 0, 0, 0, 0, 0, 0, 0, 0, 0, 0, 0, 0, 0, 0, 0, 0, 0, 0, 0, 0, 0, 0, 0, 0, 0, 0, 0, 0, 0, 0, 0, 0, 0, 0, 0, 0, 0, 0, 0, 0, 0, 0, 0, 0, 0, 0, 0, 0, 0, 0, 0, 0, 0, 0, 0, 0, 0, 0, 0, 0, 0, 0, 0, 0, 0, 0, 0, 0, 0, 0, 0, 0, 0, 0, 0, 0, 0, 0, 0, 0, 0, 0, 0, 0, 0, 0, 0, 0, 0, 0, 0, 0, 0, 0, 0, 0, 0, 0, 0, 0, 0, 0, 0, 0, 0, 0, 0, 0, 0, 0, 0, 0, 0, 0, 0, 0, 0, 0, 0, 0, 0, 0, 0, 0, 0, 0, 0, 0, 0, 0, 0, 0, 0, 0, 0, 0, 0, 0, 0, 0, 0, 0, 0, 0, 0, 0, 0, 0, 0, 0, 0, 0, 0, 0, 0, 0, 1, 1, 1, 1, 1, 1, 1, 1, 1, 1, 1, 1, 1, 1, 1, 1, 1, 1, 1, 1, 1, 1, 1, 1, 1, 1, 1, 1, 1, 1, 1, 1, 1, 1, 1, 1, 1, 1, 1, 1, 1, 1, 1, 1, 1, 1, 1, 1, 1, 1, 1, 1, 1, 1, 1, 1, 1, 1, 1, 1, 1, 1, 1, 1, 1, 1, 1, 1, 1, 1, 1, 1, 1, 1, 1, 1, 1, 1, 1, 1, 1, 1, 1, 1, 1, 1, 1, 1, 1, 1, 1, 1, 1, 1, 1, 1, 1, 1, 1, 1, 1, 1, 1, 1, 1, 1, 1, 1, 1, 1, 1, 1, 1, 1, 1, 1, 1, 1, 1, 1, 1, 1, 1, 1, 1, 1, 1, 1, 1, 1, 1, 1, 1, 1, 1, 1, 1, 1, 1, 1, 1, 1, 1, 1, 1, 1, 1, 1, 1, 1, 1, 1, 1, 1, 1, 1, 1, 1, 1, 1, 1, 1, 1, 1, 1, 1, 1, 1, 1, 1, 1, 1, 1, 1, 1, 1, 1, 1, 1, 1, 1, 1, 1, 1, 1, 1, 1, 1, 1, 1, 1, 1, 1, 1, 1, 1, 1, 1, 1, 1, 1, 1, 1, 1, 1, 1, 1, 1, 1, 1, 1, 1, 1, 1, 1, 1, 1, 1, 1, 1, 1, 1, 1, 1, 1, 1, 1, 1, 1, 1, 1, 1, 1, 1, 1, 1, 1, 1, 1, 1, 1, 1, 1, 1, 1, 1, 1, 1, 1, 1]\n",
            "all_targets = \n",
            "[1, 1, 1, 1, 1, 1, 1, 1, 1, 1, 0, 0, 0, 1, 1, 1, 1, 1, 1, 1, 1, 1, 1, 1, 1, 1, 1, 1, 1, 2, 2, 1, 2, 2, 1, 2, 2, 2, 2, 1, 2, 2, 1, 1, 1, 2, 1, 1, 1, 1, 2, 2, 2, 2, 2, 2, 2, 2, 2, 2, 2, 2, 2, 1, 1, 1, 1, 1, 1, 2, 2, 1, 1, 1, 1, 1, 2, 2, 2, 2, 1, 1, 1, 1, 0, 1, 0, 1, 1, 1, 1, 1, 0, 0, 0, 0, 0, 0, 1, 1, 1, 1, 1, 1, 1, 1, 0, 0, 0, 0, 0, 0, 0, 0, 0, 0, 0, 0, 0, 0, 0, 1, 0, 0, 0, 0, 0, 0, 0, 0, 0, 0, 0, 0, 0, 0, 0, 0, 0, 0, 0, 0, 0, 0, 0, 0, 0, 0, 0, 0, 0, 0, 0, 0, 0, 0, 0, 0, 0, 0, 0, 0, 0, 0, 0, 0, 0, 0, 0, 0, 0, 0, 0, 0, 1, 1, 1, 0, 0, 1, 1, 1, 1, 1, 1, 1, 1, 1, 1, 1, 1, 1, 1, 1, 1, 1, 1, 1, 1, 1, 1, 1, 1, 1, 1, 2, 2, 1, 1, 1, 1, 1, 1, 1, 1, 2, 2, 2, 2, 2, 2, 2, 2, 2, 2, 2, 2, 2, 2, 2, 2, 2, 2, 2, 2, 2, 2, 2, 2, 2, 2, 2, 2, 2, 1, 1, 1, 1, 1, 1, 1, 1, 1, 1, 1, 1, 1, 1, 1, 1, 1, 1, 1, 1, 2, 1, 1, 1, 1, 1, 1, 1, 1, 2, 2, 1, 1, 1, 2, 2, 2, 2, 2, 1, 1, 1, 1, 1, 1, 1, 2, 2, 1, 1, 1, 1, 0, 1, 1, 1, 1, 1, 1, 0, 0, 1, 1, 1, 1, 1, 0, 0, 0, 0, 1, 1, 1, 0, 1, 1, 1, 1, 1, 1, 1, 1, 1, 1, 1, 1, 1, 1, 1, 1, 1, 1, 1, 1, 1, 1, 1, 1, 1, 1, 1, 1, 1, 1, 1, 1, 1, 1, 1, 1, 1, 1, 1, 1, 1, 1, 1, 1, 1, 1, 1, 1, 1, 1, 1, 1, 1, 1, 1, 1, 1, 1, 1, 1, 1, 1, 1, 1, 1, 1, 1, 1, 2, 2, 2, 2, 2, 2, 2, 2, 2, 2, 2, 2, 2, 2, 2, 2, 2, 2, 2, 2, 2, 2, 2, 2, 2, 2, 2, 2, 2, 2, 2, 2, 2, 2, 2, 2, 2, 2, 2, 2, 2, 2, 2, 2, 2, 2, 2, 2, 2, 2, 2, 2, 2, 2, 2, 1, 1, 1, 0, 0, 1, 0, 1, 1, 0, 0, 0, 0, 0, 0, 0, 0, 0, 0, 0, 0, 0, 0, 0, 0, 0, 0, 0, 0, 0, 0, 0, 0, 0, 0, 0, 0, 0, 0, 0, 0, 0, 0, 0, 0, 0, 0, 0, 0, 0, 0, 0, 0, 0, 0, 0, 0, 0, 0, 0, 0, 0, 0, 0, 0, 0, 0, 0, 0, 0, 0, 0, 0, 0, 0, 1, 0, 0, 0, 0, 0, 0, 0, 0, 0, 0, 0, 0, 0, 0, 0, 0, 1, 1, 1, 1, 1, 1, 1, 1, 2, 2, 2, 2, 2, 2, 2, 2, 2, 2, 2, 2, 2, 2, 2, 2, 2, 2, 2, 2, 2, 2, 2, 2, 2, 2, 2, 2, 2, 2, 2, 2, 2, 2, 2, 2, 2, 2, 2, 2, 2, 2, 2, 2, 2, 2, 2, 2, 2, 2, 2, 2, 2, 2, 2, 2, 2, 2, 2, 2, 2, 2, 2, 2, 2, 2, 2, 2, 2, 2, 2, 2, 2, 2, 2, 2, 2, 1, 1, 2, 2, 2, 2, 2, 2, 2, 2, 2, 2, 2, 2, 2, 2, 2, 2, 2, 2, 2, 2, 2, 2, 2, 2, 2, 2, 2, 2, 2, 2, 2, 2, 2, 2, 2, 2, 2, 2, 2, 2, 2, 2, 2, 1, 1, 1, 1, 1, 1, 2, 2, 2, 2, 2, 2, 2, 2, 2, 2, 2, 2, 2, 2, 2, 2, 2, 2, 2, 2, 2, 2, 2, 2, 2, 2, 2, 2, 2, 2, 2, 2, 2, 2, 2, 2, 2, 2, 2, 2, 2, 2, 2, 2, 2, 2, 2, 2, 2, 2, 2, 2, 2, 2, 2, 2, 2, 2, 2, 2, 2, 2, 2, 2, 2, 2, 2, 2, 2, 2, 2, 2, 2, 2, 2, 2, 2, 2, 2, 2, 2, 2, 2, 2, 2, 2, 2, 2, 2, 2, 2, 2, 2, 2, 1, 2, 2, 2, 2, 2, 2, 2, 2, 2, 2, 2, 2, 2, 2, 2, 2, 2, 2, 2, 1, 1, 1, 1, 1, 1, 2, 2, 2, 2, 2, 2, 2, 2, 2, 2, 2, 2, 2, 2, 2, 2, 2, 1, 2, 2, 2, 2, 2, 2, 2, 2, 2, 2, 2, 2, 2, 2, 2, 2, 2, 2, 1, 2, 1, 1, 1, 1, 1, 2, 1, 1, 1, 1, 1, 1, 1, 2, 1, 2, 2, 1, 1, 1, 1, 2, 2, 1, 1, 1, 1, 1, 1, 1, 1, 1, 1, 1, 1, 1, 1, 1, 1, 1, 1, 1, 1, 1, 1, 1, 1, 1, 2, 1, 1, 1, 1, 1, 1, 1, 2, 2, 1, 1, 1, 1, 1, 1, 1, 1, 1, 1, 2, 2, 2, 1, 1, 1, 1, 1, 1, 1, 1, 1, 1, 1, 1, 1, 1, 1, 1, 1, 1, 1, 1, 1, 1, 1, 1, 1, 1, 1, 1, 1, 1, 1, 1, 1, 1, 1, 1, 1, 1, 1, 1, 1, 1, 0, 1, 1, 0, 0, 1, 1, 1, 1, 1, 1, 1, 1, 1, 1, 1, 1, 1, 1, 0, 0, 0, 0, 0, 0, 0, 0, 0, 0, 0, 0, 0, 0, 0, 0, 0, 0, 0, 0, 0, 0, 0, 0, 0, 0, 0, 0, 0, 0, 0, 0, 0, 0, 0, 0, 0, 0, 0, 0, 0, 0, 0, 0, 0, 0, 0, 0, 0, 0, 0, 0, 0, 0, 0, 0, 0, 0, 0, 0, 0, 0, 0, 0, 0, 0, 0, 0, 0, 0, 0, 0, 0, 0, 0, 0, 0, 0, 0, 0, 0, 0, 0, 0, 0, 0, 0, 0, 0, 0, 0, 0, 0, 0, 0]\n",
            "Accuracy sul test set: 0.2381\n"
          ]
        }
      ]
    },
    {
      "cell_type": "code",
      "source": [
        "from sklearn.metrics import confusion_matrix\n",
        "import matplotlib.pyplot as plt\n",
        "import seaborn as sns\n",
        "\n",
        "\n",
        "# Calcolare la matrice di confusione\n",
        "cm = confusion_matrix(all_targets, all_predictions)\n",
        "\n",
        "# Visualizzare la matrice di confusione\n",
        "plt.figure(figsize=(6, 4))\n",
        "sns.heatmap(cm, annot=True, fmt='d', cmap='Blues', xticklabels=['Down', 'Neutral', 'Up'], yticklabels=['Down', 'Neutral', 'Up'])\n",
        "plt.ylabel('True Label')\n",
        "plt.xlabel('Predicted Label')\n",
        "plt.title('Confusion Matrix')\n",
        "plt.show()\n",
        "\n",
        "# Stampa la matrice di confusione\n",
        "print(\"Matrice di Confusione:\")\n",
        "print(cm)"
      ],
      "metadata": {
        "id": "5WXJQqYFxGK-",
        "colab": {
          "base_uri": "https://localhost:8080/",
          "height": 483
        },
        "outputId": "2de6661e-8a09-43cd-a017-419c11137a58"
      },
      "execution_count": 89,
      "outputs": [
        {
          "output_type": "display_data",
          "data": {
            "text/plain": [
              "<Figure size 600x400 with 2 Axes>"
            ],
            "image/png": "[encoded data removed]"
          },
          "metadata": {}
        },
        {
          "output_type": "stream",
          "name": "stdout",
          "text": [
            "Matrice di Confusione:\n",
            "[[ 12 259   0]\n",
            " [137 239   0]\n",
            " [309  98   0]]\n"
          ]
        }
      ]
    }
  ]
}