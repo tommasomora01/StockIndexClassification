{
  "cells": [
    {
      "cell_type": "markdown",
      "metadata": {
        "id": "view-in-github",
        "colab_type": "text"
      },
      "source": [
        "<a href=\"https://colab.research.google.com/github/tommasomora01/StockIndexClassification/blob/main/StockIndexClassification_COLABnew.ipynb\" target=\"_parent\"><img src=\"https://colab.research.google.com/assets/colab-badge.svg\" alt=\"Open In Colab\"/></a>"
      ]
    },
    {
      "cell_type": "code",
      "execution_count": 51,
      "metadata": {
        "colab": {
          "base_uri": "https://localhost:8080/"
        },
        "id": "OpEigQDx3C3z",
        "outputId": "2937f0b2-81bf-4679-d9a1-d070ae0fba86"
      },
      "outputs": [
        {
          "output_type": "stream",
          "name": "stdout",
          "text": [
            "Drive already mounted at /content/drive; to attempt to forcibly remount, call drive.mount(\"/content/drive\", force_remount=True).\n"
          ]
        }
      ],
      "source": [
        "from google.colab import drive\n",
        "import os\n",
        "drive.mount('/content/drive')\n",
        "base_path = '/content/drive/MyDrive/StockPrediction'\n",
        "folders = ['/content/drive/MyDrive/StockPrediction/models_saved', '/content/drive/MyDrive/StockPrediction/log_saved']"
      ]
    },
    {
      "cell_type": "code",
      "execution_count": 52,
      "metadata": {
        "id": "7s72s8AQ30ar"
      },
      "outputs": [],
      "source": [
        "import torch\n",
        "import torch.nn as nn\n",
        "import torch.optim as optim\n",
        "from torchsummary import summary\n",
        "from torch.utils.data import Dataset, DataLoader\n",
        "import numpy as np\n",
        "from sklearn.metrics import accuracy_score\n",
        "\n",
        "import pandas as pd\n",
        "\n",
        "import matplotlib.pyplot as plt\n",
        "from torch.nn.functional import mse_loss\n",
        "from typing import (Tuple)\n",
        "import numpy as np\n"
      ]
    },
    {
      "cell_type": "code",
      "execution_count": 53,
      "metadata": {
        "id": "6iNf_x-53wde"
      },
      "outputs": [],
      "source": [
        "dataset = pd.read_excel(\"/content/drive/MyDrive/StockPrediction/model_data.xlsx\", sheet_name=\"DATA\")\n",
        "\n",
        "dataset = dataset.set_index('Data')\n",
        "\n",
        "cleared_dataset = dataset.dropna()\n"
      ]
    },
    {
      "cell_type": "code",
      "execution_count": 54,
      "metadata": {
        "colab": {
          "base_uri": "https://localhost:8080/"
        },
        "id": "espvG7wm8aEv",
        "outputId": "2657c44e-76b4-46ff-c0af-597b9c64504e"
      },
      "outputs": [
        {
          "output_type": "stream",
          "name": "stdout",
          "text": [
            "            SPX Index    VIX  MOVE Index  10Y-2Y %  OAS HY\\n( vs GOV)  \\\n",
            "Data                                                                    \n",
            "2001-01-02  1299.3655  29.99      113.93   0.00054           0.086520   \n",
            "2001-01-03  1364.6333  26.60      112.96   0.00229           0.085028   \n",
            "2001-01-04  1350.2664  26.97      114.51   0.00252           0.085185   \n",
            "2001-01-05  1314.8405  28.67      117.05   0.00362           0.085383   \n",
            "2001-01-08  1312.5920  29.84      119.37   0.00396           0.085498   \n",
            "\n",
            "              E_EXP    OIL  US Breakeven 10 Y  Return \\n1 month  \\\n",
            "Data                                                              \n",
            "2001-01-02  54.9447  27.21             1.3159         -0.023489   \n",
            "2001-01-03  54.9537  28.00             1.5127          0.018017   \n",
            "2001-01-04  54.9371  28.14             1.4614         -0.030449   \n",
            "2001-01-05  54.9203  27.95             1.4425         -0.038554   \n",
            "2001-01-08  54.9138  27.32             1.5037         -0.034575   \n",
            "\n",
            "            Return 3 month  Return 1Y  Vol 1 month\\nStorica  \\\n",
            "Data                                                          \n",
            "2001-01-02       -0.103915  -0.107983              0.263440   \n",
            "2001-01-03       -0.052482  -0.025855              0.313173   \n",
            "2001-01-04       -0.067724  -0.038044              0.314778   \n",
            "2001-01-05       -0.093585  -0.064363              0.297054   \n",
            "2001-01-08       -0.077610  -0.090599              0.292046   \n",
            "\n",
            "            Vol 3 month\\nStorica  Vol  1Y\\nStorica  \n",
            "Data                                                \n",
            "2001-01-02              0.237381          0.219581  \n",
            "2001-01-03              0.257735          0.224932  \n",
            "2001-01-04              0.258170          0.222012  \n",
            "2001-01-05              0.262483          0.223483  \n",
            "2001-01-08              0.262424          0.223485  \n",
            "            SPX Index    VIX  MOVE Index\n",
            "Data                                    \n",
            "2001-01-02  1299.3655  29.99      113.93\n",
            "2001-01-03  1364.6333  26.60      112.96\n",
            "2001-01-04  1350.2664  26.97      114.51\n",
            "2001-01-05  1314.8405  28.67      117.05\n",
            "2001-01-08  1312.5920  29.84      119.37\n"
          ]
        }
      ],
      "source": [
        "print(cleared_dataset.head())\n",
        "print(cleared_dataset[['SPX Index', 'VIX', 'MOVE Index']].head())\n"
      ]
    },
    {
      "cell_type": "markdown",
      "metadata": {
        "id": "aoaZACxx4mwO"
      },
      "source": []
    },
    {
      "cell_type": "code",
      "execution_count": 55,
      "metadata": {
        "id": "zN6m2RGw8zzK"
      },
      "outputs": [],
      "source": [
        "from sklearn.preprocessing import MinMaxScaler\n",
        "# Create a MinMaxScaler object\n",
        "scaler = MinMaxScaler()\n",
        "\n",
        "# Normalize the cleared dataset\n",
        "normalized_dataset = scaler.fit_transform(cleared_dataset)\n",
        "# Convert the normalized dataset back to a DataFrame\n",
        "normalized_df = pd.DataFrame(normalized_dataset, columns=cleared_dataset.columns, index=cleared_dataset.index)\n",
        "\n"
      ]
    },
    {
      "cell_type": "code",
      "execution_count": 56,
      "metadata": {
        "id": "l7tf-dya870L"
      },
      "outputs": [],
      "source": [
        "train_model_dataset = normalized_df[(normalized_df.index.year.isin([2019, 2020, 2021,2022])) | ((normalized_df.index.year == 2023) & (normalized_df.index.month <= 6))]\n",
        "real_world_dataset = normalized_df[((normalized_df.index.year == 2023) & (normalized_df.index.month > 6))| (normalized_df.index.year.isin([2024])) ]\n"
      ]
    },
    {
      "cell_type": "code",
      "execution_count": 57,
      "metadata": {
        "id": "pfrwd2sParkx"
      },
      "outputs": [],
      "source": [
        "# Classe SequenceDataset per classificazione di serie numeriche\n",
        "class SequenceDataset(Dataset[Tuple[torch.Tensor, int]]):\n",
        "    def __init__(self, data: pd.DataFrame, sequence_length, offset, distance_pred):\n",
        "        self.data = data\n",
        "        self.sequence_length = sequence_length\n",
        "        self.offset = offset\n",
        "        self.distance_pred = distance_pred\n",
        "        self.num_up = 0\n",
        "        self.num_down = 0\n",
        "        self.num_neutral = 0\n",
        "        # per i parametri di classificazione realizzare un dizionario che dipende da distance_pred\n",
        "        # distance_pred = 30 --> sup = 0.3 inf = -0.1\n",
        "        # distance_pred = 90 --> sup = 0.7 inf = -0.1\n",
        "        # distance_pred = 365 --> sup = 3 inf = 0\n",
        "        self.classification_params = {\n",
        "        30: {\"sup\": 0.5, \"inf\": -0.1},\n",
        "        90: {\"sup\": 0.7, \"inf\": -0.1},\n",
        "        365: {\"sup\": 30, \"inf\": 0}\n",
        "        }\n",
        "        self.inputs, self.targets = self._create_sequences_and_labels()\n",
        "\n",
        "\n",
        "    def _create_sequences_and_labels(self):\n",
        "        inputs = []\n",
        "        targets = []\n",
        "        sps = self.data['SPX Index'].values\n",
        "        self.num_up = 0\n",
        "        self.num_down = 0\n",
        "        self.num_neutral = 0\n",
        "\n",
        "        for end_index in range(self.sequence_length, len(sps)-self.distance_pred, self.offset):\n",
        "            sequence = self.data.iloc[end_index - self.sequence_length :end_index ].values\n",
        "            last_value = sps[end_index-1]\n",
        "            future_value = sps[end_index -1 + self.distance_pred]\n",
        "\n",
        "            # Calcola la variazione percentuale\n",
        "            perc_change = (future_value - last_value) / last_value * 100\n",
        "\n",
        "            # Assegna la classe in base alla variazione percentuale\n",
        "            if perc_change > self.classification_params[self.distance_pred][\"sup\"]:\n",
        "                label = 2  # Classe UP\n",
        "                self.num_up +=1\n",
        "            elif perc_change < self.classification_params[self.distance_pred][\"inf\"]:\n",
        "                label = 0  # Classe DOWN\n",
        "                self.num_down +=1\n",
        "            else:\n",
        "                label = 1  # Classe NEUTRAL\n",
        "                self.num_neutral +=1\n",
        "\n",
        "            inputs.append(sequence)\n",
        "            targets.append(label)\n",
        "        print(f\"Num DOWN = {self.num_down} ; Num NEUTRAL = {self.num_neutral} ; Num UP = {self.num_up} \")\n",
        "\n",
        "        return torch.tensor(inputs, dtype=torch.float32), torch.tensor(targets, dtype=torch.long)\n",
        "\n",
        "    def __len__(self):\n",
        "        return len(self.inputs)\n",
        "\n",
        "    def __getitem__(self, idx):\n",
        "        return self.inputs[idx], self.targets[idx]\n",
        "\n",
        "    def show_sequence(self,plot_mode=False, max_num=None):\n",
        "        perc_changes = []\n",
        "\n",
        "        if max_num is None or max_num > len(self):\n",
        "            max_num = len(self)\n",
        "        #with open(output_file, \"w\") as f:\n",
        "        for i in range(max_num):#utput_file=\"sequence_output.txt\"):\n",
        "            start_index = i * self.offset\n",
        "            start_date = self.data.index[start_index]\n",
        "            end_date = self.data.index[start_index + self.sequence_length - 1]\n",
        "            pred_date = self.data.index[start_index + self.sequence_length - 1 + self.distance_pred]\n",
        "            start_value = self.data.iloc[start_index][\"SPX Index\"]\n",
        "            end_value = self.data.iloc[start_index + self.sequence_length - 1][\"SPX Index\"]\n",
        "            pred_value = self.data.iloc[start_index + self.sequence_length - 1 + self.distance_pred][\"SPX Index\"]\n",
        "            _, label = self[i]\n",
        "            perc_change = (pred_value - end_value) / end_value * 100\n",
        "            perc_changes.append(perc_change)\n",
        "\n",
        "            if(not plot_mode):\n",
        "                # f.write(f\"Data inizio-sequenza: {start_date}, Valore inizio: {start_value}\\n\")\n",
        "                # f.write(f\"Data fine-sequenza: {end_date}, Valore fine: {end_value}\\n\")\n",
        "                # f.write(f\"Data previsione: {pred_date}, Valore previsione: {pred_value}\\n\")\n",
        "                # f.write(f\"Variazione percentuale: {perc_change}%\\n\")\n",
        "                print(f\"Data inizio-sequenza: {start_date}, Valore inizio: {start_value}\")\n",
        "                print(f\"Data fine-sequenza: {end_date}, Valore fine: {end_value}\")\n",
        "                print(f\"Data previsione: {pred_date}, Valore previsione: {pred_value}\")\n",
        "                print(f\"Variazione percentuale: {perc_change}%\")\n",
        "                print(f\"Classe: {'UP' if label == 2 else 'NEUTRAL' if label == 1 else 'DOWN'}\\n\")\n",
        "        if plot_mode:\n",
        "            # Definisci i bins per l'istogramma\n",
        "            bins = list(range(-100, 101, 10)) + list(range(100, 801, 10))  # Da -100 a 100, poi da 100 a 800\n",
        "            frequencies, edges = np.histogram(perc_changes, bins=bins)\n",
        "            # Crea l'istogramma\n",
        "            plt.figure(figsize=(18, 5))  # Regola le dimensioni se necessario\n",
        "            plt.hist(perc_changes, bins=bins, edgecolor='black', alpha=0.7, width=9)\n",
        "            plt.title('Istogramma delle Variazioni Percentuali')\n",
        "            plt.xlabel('Variazione Percentuale (%)')\n",
        "            plt.ylabel('Frequenza')\n",
        "            plt.grid(axis='y', alpha=0.75)\n",
        "\n",
        "            # Personalizza i tick dell'asse x\n",
        "            xticks = list(range(-100, 101, 10)) + list(range(100, 801, 10))\n",
        "            plt.xticks(xticks,rotation=90)  # Assicurati che tutti i bins siano mostrati\n",
        "            plt.xlim([-100, 800])  # Imposta i limiti dell'asse x\n",
        "            for i in range(len(frequencies)):\n",
        "                plt.text(edges[i] + (edges[i + 1] - edges[i]) / 2, frequencies[i], str(frequencies[i]),\n",
        "                 ha='center', va='bottom')\n",
        "            plt.tight_layout()\n",
        "            plt.show()"
      ]
    },
    {
      "cell_type": "code",
      "source": [
        "# # Iperparametri\n",
        "# sequence_length = 30\n",
        "# offset = 2\n",
        "# distance_pred = 365\n",
        "# output_size = 3  # Numero di classi: D, N, U\n",
        "# learning_rate = 0.0001\n",
        "# num_epochs = 100\n",
        "# batch_size = 12"
      ],
      "metadata": {
        "id": "ur6s6Op6CXl1"
      },
      "execution_count": 58,
      "outputs": []
    },
    {
      "cell_type": "code",
      "source": [
        "# train_inputs = normalized_df.iloc[:,:]\n",
        "# realworld_inputs = real_world_dataset.iloc[:,:]\n",
        "# dataset = SequenceDataset(train_inputs, sequence_length=sequence_length, offset=offset,distance_pred=distance_pred)\n",
        "# dataset.show_sequence(max_num=500)\n"
      ],
      "metadata": {
        "id": "APJkcaPG-c5u"
      },
      "execution_count": 59,
      "outputs": []
    },
    {
      "cell_type": "code",
      "execution_count": 60,
      "metadata": {
        "colab": {
          "base_uri": "https://localhost:8080/"
        },
        "id": "u23MhwYMd-C3",
        "outputId": "a5aa216e-fa7c-452b-ceab-e7780d910588"
      },
      "outputs": [
        {
          "output_type": "stream",
          "name": "stdout",
          "text": [
            "<class 'pandas.core.frame.DataFrame'>\n",
            "<class 'pandas.core.frame.DataFrame'>\n",
            "(1174, 14)\n",
            "(158, 14)\n",
            "<class 'torch.Tensor'>\n",
            "torch.Size([1174, 14])\n",
            "<class 'torch.Tensor'>\n",
            "torch.Size([158, 14])\n"
          ]
        }
      ],
      "source": [
        "# train_inputs = normalized_df.iloc[:,:]\n",
        "realworld_inputs = real_world_dataset.iloc[:,:]\n",
        "train_inputs = train_model_dataset.iloc[:,:]\n",
        "folders[0] = os.path.join(folders[0],\"dataset_2019_2022\")\n",
        "folders[1] = os.path.join(folders[1],\"dataset_2019_2022\")\n",
        "print(type(train_inputs))\n",
        "print(type(realworld_inputs))\n",
        "print(train_inputs.shape)\n",
        "print(realworld_inputs.shape)\n",
        "\n",
        "\n",
        "X_train_tensor = torch.tensor(train_inputs.to_numpy())\n",
        "X_test_tensor = torch.tensor(realworld_inputs.to_numpy())\n",
        "\n",
        "print(type(X_train_tensor))\n",
        "print(X_train_tensor.shape)\n",
        "print(type(X_test_tensor))\n",
        "print(X_test_tensor.shape)\n"
      ]
    },
    {
      "cell_type": "code",
      "execution_count": 61,
      "metadata": {
        "id": "iuf0V-B_bu-5"
      },
      "outputs": [],
      "source": [
        "# train_sequence = SequenceDataset(train_inputs, sequence_length=30, offset=2, distance_pred=30)\n",
        "\n",
        "# test_sequence = SequenceDataset(realworld_inputs, sequence_length=30,  offset=2, distance_pred=30)"
      ]
    },
    {
      "cell_type": "code",
      "execution_count": 62,
      "metadata": {
        "id": "oJi1rvomf5IB"
      },
      "outputs": [],
      "source": [
        "# print(len(train_sequence))\n",
        "# print(len(test_sequence))\n",
        "\n",
        "# print(f\"{type(train_sequence[0])} di dim {len(train_sequence[0])}\")\n",
        "\n",
        "# print(f\"{type(train_sequence[0][0])} con shape {train_sequence[0][0].shape}\")\n",
        "\n",
        "# print(test_sequence[0].shape)\n"
      ]
    },
    {
      "cell_type": "code",
      "execution_count": 63,
      "metadata": {
        "id": "DKTu5e8qHwBb"
      },
      "outputs": [],
      "source": [
        "# from sklearn.model_selection import train_test_split\n",
        "\n",
        "# X_train, X_test, y_train, y_test = train_test_split(train_inputs, train_targets, test_size=0.3, shuffle=False)\n",
        "\n",
        "# X_train_tensor = torch.tensor(X_train.to_numpy())\n",
        "\n",
        "# y_train_tensor = torch.tensor(y_train.to_numpy())\n",
        "\n",
        "# X_test_tensor = torch.tensor(X_test.to_numpy())\n",
        "\n",
        "# y_test_tensor = torch.tensor(y_test.to_numpy())\n",
        "\n",
        "# print(X_train_tensor.shape)\n",
        "# print(y_train_tensor.shape)\n",
        "# print(X_test_tensor.shape)\n",
        "# print(y_test_tensor.shape)\n"
      ]
    },
    {
      "cell_type": "code",
      "execution_count": 64,
      "metadata": {
        "id": "0VNHFkZs0Waw"
      },
      "outputs": [],
      "source": [
        "\n",
        "# Definizione del modello\n",
        "class TimeSeriesModel(nn.Module):\n",
        "    def __init__(self,\n",
        "                 input_size,\n",
        "                 output_size,\n",
        "                 dimension,\n",
        "                 d_model=32,\n",
        "                 n_head=8,\n",
        "                 dim_feedforward=256,\n",
        "                 num_layers=6,\n",
        "                 batch_first=False,\n",
        "                 enable_nested_tensor=True,\n",
        "                 kernel_size=5,\n",
        "                 dropout=0.1):\n",
        "        super(TimeSeriesModel, self).__init__()\n",
        "\n",
        "        self.dimension = dimension\n",
        "        self.input_size = input_size\n",
        "        self.output_size = output_size\n",
        "        self.d_model = d_model\n",
        "\n",
        "        if(self.dimension == \"medium\"):\n",
        "            self.conv1 = nn.Conv1d(input_size, d_model, kernel_size=kernel_size, padding='same', padding_mode=\"reflect\")\n",
        "            self.relu1 = nn.ReLU()\n",
        "            #self.transformer = nn.TransformerEncoderLayer(d_model=d_model, nhead=n_head, dim_feedforward=dim_feedforward, batch_first = batch_first)\n",
        "            self.transformer = nn.TransformerEncoder(nn.TransformerEncoderLayer(d_model=d_model, nhead=n_head, dim_feedforward=dim_feedforward, batch_first = batch_first), num_layers=num_layers, enable_nested_tensor=enable_nested_tensor)\n",
        "            self.relu2 = nn.ReLU()\n",
        "            self.conv2 = nn.Conv1d(d_model, d_model//2, kernel_size=3)\n",
        "            self.relu3 = nn.ReLU()\n",
        "            self.classification_layer = nn.Linear(d_model//2, output_size)\n",
        "            #self.softmax = nn.Softmax(dim=1)\n",
        "        else:\n",
        "            self.conv1 = nn.Conv1d(input_size, d_model, kernel_size=kernel_size, padding='same', padding_mode=\"reflect\")\n",
        "            self.relu1 = nn.ReLU()\n",
        "            self.transformer = nn.TransformerEncoder(nn.TransformerEncoderLayer(d_model=d_model, nhead=n_head, dim_feedforward=dim_feedforward, batch_first = batch_first), num_layers=num_layers, enable_nested_tensor=enable_nested_tensor)\n",
        "            self.relu2 = nn.ReLU()\n",
        "            self.classification_layer = nn.Linear(d_model, output_size)\n",
        "\n",
        "\n",
        "    def forward(self, x):\n",
        "        if(self.dimension == \"medium\"):\n",
        "            x = x.permute(0,2,1)\n",
        "            x = self.conv1(x)\n",
        "            #print(\"After conv1:\", x.shape)\n",
        "            x = self.relu1(x)\n",
        "            x = x.permute(0, 2, 1)  # Permuta per il Transformer\n",
        "            x = self.transformer(x)\n",
        "            #print(\"After transformer:\", x.shape)\n",
        "            x = x.permute(0, 2, 1)  # Riporta alla forma della conv1\n",
        "            x = self.relu2(x)\n",
        "            x = self.conv2(x)\n",
        "            #print(\"After conv2:\", x.shape)\n",
        "            x = self.relu3(x)\n",
        "            x = torch.mean(x, dim=2)  # Pooling globale sulla dimensione della sequenza\n",
        "            x = self.classification_layer(x)\n",
        "            #print(\"After classification:\", x.shape)\n",
        "            #x = self.softmax(x)\n",
        "        else:\n",
        "            x = x.permute(0,2,1)\n",
        "            x = self.conv1(x)\n",
        "            x = self.relu1(x)\n",
        "            x = x.permute(0, 2, 1)\n",
        "            x = self.transformer(x)\n",
        "            x = x.permute(0, 2, 1)\n",
        "            x = self.relu2(x)\n",
        "            x = torch.mean(x, dim=2)\n",
        "            x = self.classification_layer(x)\n",
        "        return x\n",
        "\n"
      ]
    },
    {
      "cell_type": "code",
      "execution_count": 65,
      "metadata": {
        "id": "9Qn48OaS5rvs"
      },
      "outputs": [],
      "source": [
        "class EarlyStopping:\n",
        "    def __init__(self, patience=5, delta=0):\n",
        "        self.patience = patience\n",
        "        self.counter = 0\n",
        "        self.best_loss = None\n",
        "        self.delta = delta\n",
        "\n",
        "    def __call__(self,loss) :\n",
        "        if self.best_loss == None:\n",
        "            self.best_loss = loss\n",
        "        elif self.best_loss - loss > self.delta:\n",
        "            self.best_loss = loss\n",
        "            self.counter = 0\n",
        "        else:\n",
        "            self.counter += 1\n",
        "            if self.counter >= self.patience:\n",
        "                return True\n",
        "        return False\n"
      ]
    },
    {
      "cell_type": "code",
      "execution_count": 66,
      "metadata": {
        "id": "oAjGys9B0t82"
      },
      "outputs": [],
      "source": [
        "# Funzione di training\n",
        "def train_model(model, train_loader, val_loader, criterion, optimizer, device,early_stopping = None):\n",
        "    model.train()\n",
        "    running_loss = 0.0\n",
        "    for inputs, targets in train_loader:\n",
        "        #print(\"inputs[0].shape\",inputs[0].shape)\n",
        "        #print(\"inputs[1].shape\",targets[1].shape)\n",
        "        inputs, targets = inputs.to(device), targets.to(device)\n",
        "        optimizer.zero_grad()\n",
        "        outputs = model(inputs)\n",
        "        #print(\"outputs.shape\",outputs.shape)\n",
        "        #print(\"targets.shape\",targets.shape)\n",
        "        loss = criterion(outputs, targets)\n",
        "        loss.backward()\n",
        "        optimizer.step()\n",
        "        running_loss += loss.item()\n",
        "    avg_train_loss = running_loss / len(train_loader)\n",
        "\n",
        "    val_loss = 0\n",
        "    model.eval()\n",
        "    with torch.no_grad():\n",
        "        for inputs, targets in val_loader:\n",
        "            inputs, targets = inputs.to(device), targets.to(device)\n",
        "            outputs = model(inputs)\n",
        "            loss = criterion(outputs, targets)\n",
        "            val_loss += loss.item()\n",
        "    avg_val_loss = val_loss / len(val_loader)\n",
        "    #print(f\"Avg Train Loss: {avg_train_loss:.4f}, Avg Val Loss: {avg_val_loss:.4f}\")\n",
        "    if early_stopping:\n",
        "        if(early_stopping(avg_val_loss)):\n",
        "           # print(f\"Early stopping triggered at epoch {epoch+1}\")\n",
        "            return avg_train_loss,True\n",
        "    return avg_train_loss,False\n",
        "\n",
        "# Funzione di valutazione\n",
        "def evaluate_model(model, test_loader, device):\n",
        "    model.eval()\n",
        "    all_predictions = []\n",
        "    all_targets = []\n",
        "    with torch.no_grad():\n",
        "        for inputs, targets in test_loader:\n",
        "            inputs, targets = inputs.to(device), targets.to(device)\n",
        "            outputs = model(inputs)\n",
        "            _, predicted = torch.max(outputs, 1)\n",
        "            all_predictions.extend(predicted.cpu().numpy())\n",
        "            all_targets.extend(targets.cpu().numpy())\n",
        "        print(f\"all_predictions = \\n{all_predictions}\")\n",
        "        print(f\"all_targets = \\n{all_targets}\")\n",
        "    accuracy = accuracy_score(all_targets, all_predictions)\n",
        "    return accuracy, all_predictions, all_targets\n",
        "\n"
      ]
    },
    {
      "cell_type": "code",
      "execution_count": 67,
      "metadata": {
        "id": "wauEWKuF0yuJ"
      },
      "outputs": [],
      "source": [
        "# Dati di esempio SPS_index\n",
        "#SPS_index = np.random.rand(1000, 30)  # Esempio di dataset con 1000 sequenze lunghe 30\n",
        "\n",
        "# Iperparametri\n",
        "sequence_length = 30\n",
        "offset = 1\n",
        "distance_pred = 30\n",
        "output_size = 3  # Numero di classi: D, N, U\n",
        "learning_rate = 0.0001\n",
        "num_epochs = 1000\n",
        "batch_size = 12\n",
        "folders[0] = os.path.join(folders[0],f\"{distance_pred}gg\")\n",
        "folders[1] = os.path.join(folders[1],f\"{distance_pred}gg\")\n"
      ]
    },
    {
      "cell_type": "code",
      "source": [
        "print(folders[0])\n",
        "print(folders[1])"
      ],
      "metadata": {
        "colab": {
          "base_uri": "https://localhost:8080/"
        },
        "id": "BZ8s5efleGBk",
        "outputId": "99e26e11-2508-4eb7-b99f-62062b8f5361"
      },
      "execution_count": 68,
      "outputs": [
        {
          "output_type": "stream",
          "name": "stdout",
          "text": [
            "/content/drive/MyDrive/StockPrediction/models_saved/dataset_2019_2022/30gg\n",
            "/content/drive/MyDrive/StockPrediction/log_saved/dataset_2019_2022/30gg\n"
          ]
        }
      ]
    },
    {
      "cell_type": "code",
      "execution_count": 69,
      "metadata": {
        "colab": {
          "base_uri": "https://localhost:8080/",
          "height": 410
        },
        "id": "uUE0-7qo03Bh",
        "outputId": "785ec2f2-e33c-4bed-b54e-740a7a2f01bf"
      },
      "outputs": [
        {
          "output_type": "stream",
          "name": "stdout",
          "text": [
            "Num DOWN = 337 ; Num NEUTRAL = 28 ; Num UP = 749 \n"
          ]
        },
        {
          "output_type": "display_data",
          "data": {
            "text/plain": [
              "<Figure size 1800x500 with 1 Axes>"
            ],
            "image/png": "[encoded data removed]"
          },
          "metadata": {}
        },
        {
          "output_type": "stream",
          "name": "stdout",
          "text": [
            "torch.Size([12, 30, 14])\n",
            "torch.Size([12])\n",
            "torch.Size([12, 30, 14])\n",
            "torch.Size([12])\n"
          ]
        }
      ],
      "source": [
        "# Creazione del dataset\n",
        "dataset = SequenceDataset(train_inputs, sequence_length=sequence_length, offset=offset,distance_pred=distance_pred)\n",
        "dataset.show_sequence(plot_mode=True)\n",
        "# Split train-test\n",
        "train_size = int(0.8 * len(dataset))\n",
        "test_size = len(dataset) - train_size\n",
        "train_dataset, test_dataset = torch.utils.data.random_split(dataset, [train_size, test_size])\n",
        "\n",
        "# print(f\"type di train_dataset = {type(train_dataset)}\")\n",
        "# print(f\"train_size =  {len(train_dataset)}\")\n",
        "# print(f\"test_size =  {len(test_dataset)}\")\n",
        "\n",
        "# Creazione dei DataLoader\n",
        "train_loader = DataLoader(train_dataset, batch_size=batch_size, shuffle=False)\n",
        "test_loader = DataLoader(test_dataset, batch_size=batch_size, shuffle=False)\n",
        "for inputs in train_loader:\n",
        "  print(inputs[0].shape)\n",
        "  print(inputs[1].shape)\n",
        "  break\n",
        "\n",
        "for inputs in test_loader:\n",
        "    print(inputs[0].shape)\n",
        "    print(inputs[1].shape)\n",
        "    break\n"
      ]
    },
    {
      "cell_type": "code",
      "execution_count": 70,
      "metadata": {
        "id": "CTug9brcFdzT"
      },
      "outputs": [],
      "source": [
        "#print(inputs[0]) # dati nel primo batch"
      ]
    },
    {
      "cell_type": "code",
      "execution_count": 71,
      "metadata": {
        "id": "fmK_F_s4FpQl"
      },
      "outputs": [],
      "source": [
        "#print(inputs[1])  # etichette del primo batch"
      ]
    },
    {
      "cell_type": "code",
      "source": [
        "import uuid\n",
        "from itertools import product\n",
        "from tqdm.notebook import tqdm\n",
        "\n",
        "list_dmodel = [16,32]#,64, 128]\n",
        "list_head = [2, 4]#,8]\n",
        "list_layers = [2, 3]#,6]\n",
        "list_ff_dim = [16,32]#,64, 256]\n",
        "list_offset = [1, 2,]# 3, 4]\n",
        "list_batches = [6,8]#,10]\n",
        "kernel_size = [1,3]#, 5]\n",
        "dimensions = [\"small\"]#, \"medium\"]\n",
        "num_epochs = 1000\n",
        "\n",
        "# Definizione del dataframe per il log dei risultati\n",
        "result_dataframe_log = pd.DataFrame()\n",
        "\n",
        "# Generazione delle combinazioni dei parametri\n",
        "option_clusterlist = list(product(list_batches, list_offset, list_dmodel, list_head, list_ff_dim, list_layers, kernel_size,dimensions))\n",
        "\n",
        "# Filtraggio delle combinazioni valide\n",
        "option_cleared = []\n",
        "for batch_n, offset, d_model, n_head, ff_dim, num_layer, kernel, dimension in option_clusterlist:\n",
        "    if ff_dim >= d_model:\n",
        "        option_cleared.append((batch_n, offset, d_model, n_head, ff_dim, num_layer, kernel, dimension))\n",
        "\n",
        "# Loop su ogni configurazione valida\n",
        "for batch_n, offset, d_model, n_head, ff_dim, num_layer, kernel, dimension in tqdm(option_cleared, desc=\"Creazione e addestramento modelli\"):\n",
        "    model_id = str(uuid.uuid4())\n",
        "    model = TimeSeriesModel(\n",
        "        input_size=train_inputs.shape[-1],\n",
        "        output_size=3,\n",
        "        dimension=dimension,\n",
        "        d_model=d_model,\n",
        "        n_head=n_head,\n",
        "        dim_feedforward=ff_dim,\n",
        "        num_layers=num_layer,\n",
        "        kernel_size=kernel,\n",
        "        dropout=0.1\n",
        "    )\n",
        "\n",
        "    # Impostiamo ottimizzatore e funzione di perdita\n",
        "    optimizer = optim.Adam(model.parameters(), lr=0.001)\n",
        "    criterion = nn.CrossEntropyLoss()  # Modifica in base alla tua funzione di perdita\n",
        "    device = torch.device(\"cuda\" if torch.cuda.is_available() else \"cpu\")\n",
        "    model.to(device)\n",
        "    for m in model.modules():\n",
        "        if isinstance(m, (nn.Conv1d, nn.Conv2d, nn.Conv3d, nn.Linear)):\n",
        "            nn.init.kaiming_normal_(m.weight, nonlinearity='relu')  # For ReLU activation\n",
        "        if isinstance(m, (nn.TransformerEncoderLayer)):\n",
        "            nn.init.xavier_uniform_(m.linear1.weight)\n",
        "            nn.init.xavier_uniform_(m.linear2.weight)\n",
        "    # File di log dei risultati\n",
        "    log_file = f\"training_log_{model_id}.txt\"\n",
        "    model_file = f\"model_{model_id}.pt\"\n",
        "    early_stopping = EarlyStopping(delta=0.001)\n",
        "    with open(os.path.join(folders[1],log_file), \"w\") as f:\n",
        "        for epoch in range(num_epochs):\n",
        "\n",
        "            train_loss, stop = train_model(model, train_loader, test_loader, criterion, optimizer, device, early_stopping)\n",
        "            f.write(f\"Epoch [{epoch+1}/{num_epochs}], Loss: {train_loss:.4f}\\n\")\n",
        "            print(f\"Epoch [{epoch+1}/{num_epochs}], Loss: {train_loss:.4f}\")\n",
        "\n",
        "            if stop:  # Early stopping, valutazione finale\n",
        "                test_accuracy, all_predictions, all_targets = evaluate_model(model, test_loader, device)\n",
        "                f.write(f\"Early stopping triggered.\\n\")\n",
        "                f.write(f\"Test Accuracy: {test_accuracy:.4f}\\n\")\n",
        "                f.write(f\"all_predictions = \\n{all_predictions}\\n\")\n",
        "                f.write(f\"all_targets = \\n{all_targets}\\n\")\n",
        "                break\n",
        "\n",
        "        # Test finale, se l'early stopping non è stato attivato\n",
        "        if not stop:\n",
        "            test_accuracy, all_predictions, all_targets = evaluate_model(model, test_loader, device)\n",
        "            f.write(f\"Test Accuracy: {test_accuracy:.4f}\\n\")\n",
        "            f.write(f\"all_predictions = \\n{all_predictions}\\n\")\n",
        "            f.write(f\"all_targets = \\n{all_targets}\\n\")\n",
        "\n",
        "    # Salvataggio del modello\n",
        "    torch.save(model.state_dict(), os.path.join(folders[0],model_file))\n",
        "    print(f\"Modello salvato in {model_file}\")\n",
        "\n",
        "    # Aggiungiamo i dettagli al log generale\n",
        "    result_dataframe_log = pd.concat([result_dataframe_log,pd.DataFrame([{\n",
        "        \"Model_ID\": model_id,\n",
        "        \"Batch_Size\": batch_n,\n",
        "        \"Seq_Length\": train_inputs.shape[-1],\n",
        "        \"Offset\": offset,\n",
        "        \"D_Model\": d_model,\n",
        "        \"N_Head\": n_head,\n",
        "        \"FF_Dim\": ff_dim,\n",
        "        \"Num_Layers\": num_layer,\n",
        "        \"Kernel_Size\": kernel,\n",
        "        \"Model_File\": model_file,\n",
        "        \"Log_File\": log_file,\n",
        "        \"Sequence Length\" : sequence_length,\n",
        "        \"Test_Accuracy\": test_accuracy\n",
        "    }])], ignore_index=True)\n",
        "\n",
        "# Salvataggio del dataframe come CSV\n",
        "log_model_path = os.path.join(base_path, f\"log_modelli_{dimension}Model_datasetSmall_{distance_pred}gg.csv\")\n",
        "file_exist = os.path.isfile(log_model_path)\n",
        "result_dataframe_log.to_csv(log_model_path, mode = \"a\",header = not file_exist, index=False)\n",
        "print(f\"Log generale salvato in log_modelli_{dimension}Model_datasetSmall_{distance_pred}gg.csv\")"
      ],
      "metadata": {
        "colab": {
          "base_uri": "https://localhost:8080/",
          "height": 1000,
          "referenced_widgets": [
            "b5af9089381d47e1ad9cdc720f6f723b",
            "1403003f14454cd0936cce07e3d6f756",
            "97ac2baf620045bbb661bd53e8e844e9",
            "64ef8a3b352a48d2a16e58022df5fab1",
            "51fc86da13da4c078874940050dcb2e4",
            "87997badb3814f768e893b7fc1175fdd",
            "48f8c17e262d468490ed94f7a4b9471b",
            "7a75348c7e8e4d3c9cba4ad301fcb66b",
            "877ce77db42f4e56971d62e05ec49481",
            "dbf695c8204c471dbed5c5c810844a49",
            "c1a87f3a0e3348e4bb9d39b04daff91f"
          ]
        },
        "id": "tQ-JbSaK47v9",
        "outputId": "deb8c10b-2290-46bc-a74a-6a5b16fa3b02"
      },
      "execution_count": 72,
      "outputs": [
        {
          "output_type": "display_data",
          "data": {
            "text/plain": [
              "Creazione e addestramento modelli:   0%|          | 0/96 [00:00<?, ?it/s]"
            ],
            "application/vnd.jupyter.widget-view+json": {
              "version_major": 2,
              "version_minor": 0,
              "model_id": "b5af9089381d47e1ad9cdc720f6f723b"
            }
          },
          "metadata": {}
        },
        {
          "output_type": "stream",
          "name": "stderr",
          "text": [
            "/usr/local/lib/python3.10/dist-packages/torch/nn/modules/transformer.py:379: UserWarning: enable_nested_tensor is True, but self.use_nested_tensor is False because encoder_layer.self_attn.batch_first was not True(use batch_first for better inference performance)\n",
            "  warnings.warn(\n"
          ]
        },
        {
          "output_type": "stream",
          "name": "stdout",
          "text": [
            "Epoch [1/1000], Loss: 0.7850\n",
            "Epoch [2/1000], Loss: 0.6870\n",
            "Epoch [3/1000], Loss: 0.6616\n",
            "Epoch [4/1000], Loss: 0.6410\n",
            "Epoch [5/1000], Loss: 0.6362\n",
            "Epoch [6/1000], Loss: 0.6269\n",
            "Epoch [7/1000], Loss: 0.6248\n",
            "all_predictions = \n",
            "[2, 2, 2, 2, 2, 2, 2, 2, 0, 0, 0, 2, 2, 0, 2, 2, 2, 2, 2, 2, 0, 2, 0, 2, 2, 0, 2, 2, 2, 2, 2, 2, 2, 2, 2, 2, 2, 0, 2, 0, 2, 2, 2, 0, 2, 0, 2, 2, 2, 0, 2, 2, 2, 2, 2, 0, 2, 2, 2, 2, 2, 2, 2, 0, 2, 2, 2, 0, 2, 2, 2, 2, 2, 0, 2, 2, 2, 2, 2, 0, 2, 0, 2, 2, 2, 2, 2, 2, 2, 2, 0, 0, 2, 2, 2, 0, 0, 2, 0, 2, 2, 0, 2, 2, 2, 2, 2, 2, 2, 2, 0, 2, 2, 2, 2, 2, 2, 2, 2, 2, 2, 2, 2, 2, 2, 2, 2, 2, 0, 2, 0, 2, 2, 2, 2, 2, 2, 2, 2, 2, 2, 2, 2, 0, 2, 2, 2, 2, 2, 2, 2, 0, 2, 2, 2, 2, 2, 2, 2, 0, 2, 2, 0, 2, 2, 2, 2, 2, 2, 2, 0, 2, 2, 2, 2, 2, 2, 2, 0, 0, 0, 2, 2, 2, 2, 2, 2, 0, 2, 2, 2, 2, 2, 2, 2, 2, 2, 0, 0, 2, 2, 2, 2, 2, 2, 2, 2, 2, 2, 2, 2, 2, 2, 2, 2, 2, 2, 2, 2, 2, 0, 2, 2]\n",
            "all_targets = \n",
            "[2, 2, 0, 2, 2, 0, 2, 2, 0, 2, 2, 2, 2, 2, 0, 2, 2, 2, 2, 0, 0, 2, 0, 0, 0, 0, 2, 2, 2, 0, 2, 2, 2, 0, 2, 2, 2, 2, 2, 2, 2, 0, 0, 0, 2, 2, 2, 2, 2, 2, 2, 2, 2, 2, 2, 2, 2, 2, 2, 2, 2, 2, 2, 0, 2, 0, 2, 0, 2, 2, 0, 2, 2, 2, 0, 2, 2, 2, 2, 2, 2, 0, 2, 2, 2, 2, 2, 2, 0, 0, 0, 0, 2, 2, 2, 0, 0, 2, 0, 2, 0, 2, 1, 2, 2, 2, 2, 2, 2, 0, 0, 2, 0, 0, 2, 2, 2, 2, 0, 2, 2, 2, 2, 2, 2, 0, 0, 2, 0, 2, 0, 2, 0, 2, 0, 2, 0, 2, 2, 2, 2, 0, 0, 0, 0, 2, 0, 2, 2, 2, 2, 0, 2, 2, 2, 2, 0, 1, 0, 0, 2, 2, 2, 0, 2, 2, 2, 0, 0, 2, 0, 2, 0, 1, 0, 2, 2, 2, 0, 0, 2, 1, 2, 2, 2, 2, 2, 0, 1, 0, 0, 0, 2, 2, 2, 1, 2, 0, 0, 0, 2, 0, 2, 2, 2, 2, 1, 2, 2, 2, 2, 2, 2, 0, 2, 2, 2, 2, 2, 2, 0, 0, 2]\n",
            "Modello salvato in model_9d305b67-2e6e-4261-ba24-9a9e5aabf1c9.pt\n"
          ]
        },
        {
          "output_type": "stream",
          "name": "stderr",
          "text": [
            "/usr/local/lib/python3.10/dist-packages/torch/nn/modules/transformer.py:379: UserWarning: enable_nested_tensor is True, but self.use_nested_tensor is False because encoder_layer.self_attn.batch_first was not True(use batch_first for better inference performance)\n",
            "  warnings.warn(\n"
          ]
        },
        {
          "output_type": "stream",
          "name": "stdout",
          "text": [
            "Epoch [1/1000], Loss: 0.8010\n",
            "Epoch [2/1000], Loss: 0.7157\n",
            "Epoch [3/1000], Loss: 0.7077\n",
            "Epoch [4/1000], Loss: 0.6904\n",
            "Epoch [5/1000], Loss: 0.6546\n",
            "Epoch [6/1000], Loss: 0.6442\n",
            "Epoch [7/1000], Loss: 0.6363\n",
            "Epoch [8/1000], Loss: 0.6306\n",
            "Epoch [9/1000], Loss: 0.6046\n",
            "all_predictions = \n",
            "[2, 2, 2, 2, 2, 2, 2, 2, 0, 2, 0, 2, 0, 0, 0, 2, 2, 2, 2, 2, 0, 2, 0, 2, 2, 0, 2, 2, 2, 2, 0, 2, 2, 2, 0, 2, 2, 2, 2, 0, 2, 2, 2, 0, 2, 0, 2, 0, 2, 0, 2, 2, 2, 2, 2, 2, 2, 2, 2, 2, 2, 2, 2, 0, 2, 2, 2, 0, 2, 2, 2, 2, 2, 0, 2, 2, 2, 2, 2, 0, 0, 0, 2, 2, 2, 2, 2, 2, 2, 2, 0, 0, 2, 2, 0, 0, 0, 2, 0, 2, 2, 0, 2, 2, 2, 2, 2, 2, 0, 0, 0, 0, 2, 2, 2, 0, 2, 2, 2, 2, 0, 2, 2, 2, 2, 2, 0, 2, 0, 2, 0, 2, 2, 2, 2, 2, 2, 2, 2, 2, 2, 2, 0, 0, 2, 0, 2, 2, 2, 0, 2, 0, 2, 2, 0, 2, 2, 2, 2, 0, 0, 2, 0, 2, 2, 2, 2, 2, 2, 2, 0, 2, 0, 0, 2, 2, 2, 2, 0, 0, 0, 2, 2, 2, 2, 2, 2, 0, 2, 0, 2, 2, 2, 2, 2, 2, 2, 0, 0, 2, 2, 0, 2, 2, 2, 2, 2, 2, 2, 2, 2, 2, 2, 2, 0, 2, 2, 0, 2, 2, 2, 2, 2]\n",
            "all_targets = \n",
            "[2, 2, 0, 2, 2, 0, 2, 2, 0, 2, 2, 2, 2, 2, 0, 2, 2, 2, 2, 0, 0, 2, 0, 0, 0, 0, 2, 2, 2, 0, 2, 2, 2, 0, 2, 2, 2, 2, 2, 2, 2, 0, 0, 0, 2, 2, 2, 2, 2, 2, 2, 2, 2, 2, 2, 2, 2, 2, 2, 2, 2, 2, 2, 0, 2, 0, 2, 0, 2, 2, 0, 2, 2, 2, 0, 2, 2, 2, 2, 2, 2, 0, 2, 2, 2, 2, 2, 2, 0, 0, 0, 0, 2, 2, 2, 0, 0, 2, 0, 2, 0, 2, 1, 2, 2, 2, 2, 2, 2, 0, 0, 2, 0, 0, 2, 2, 2, 2, 0, 2, 2, 2, 2, 2, 2, 0, 0, 2, 0, 2, 0, 2, 0, 2, 0, 2, 0, 2, 2, 2, 2, 0, 0, 0, 0, 2, 0, 2, 2, 2, 2, 0, 2, 2, 2, 2, 0, 1, 0, 0, 2, 2, 2, 0, 2, 2, 2, 0, 0, 2, 0, 2, 0, 1, 0, 2, 2, 2, 0, 0, 2, 1, 2, 2, 2, 2, 2, 0, 1, 0, 0, 0, 2, 2, 2, 1, 2, 0, 0, 0, 2, 0, 2, 2, 2, 2, 1, 2, 2, 2, 2, 2, 2, 0, 2, 2, 2, 2, 2, 2, 0, 0, 2]\n",
            "Modello salvato in model_15a445ca-b527-493e-ba20-c49a7d344be4.pt\n"
          ]
        },
        {
          "output_type": "stream",
          "name": "stderr",
          "text": [
            "/usr/local/lib/python3.10/dist-packages/torch/nn/modules/transformer.py:379: UserWarning: enable_nested_tensor is True, but self.use_nested_tensor is False because encoder_layer.self_attn.batch_first was not True(use batch_first for better inference performance)\n",
            "  warnings.warn(\n"
          ]
        },
        {
          "output_type": "stream",
          "name": "stdout",
          "text": [
            "Epoch [1/1000], Loss: 0.8022\n"
          ]
        },
        {
          "output_type": "error",
          "ename": "KeyboardInterrupt",
          "evalue": "",
          "traceback": [
            "\u001b[0;31m---------------------------------------------------------------------------\u001b[0m",
            "\u001b[0;31mKeyboardInterrupt\u001b[0m                         Traceback (most recent call last)",
            "\u001b[0;32m<ipython-input-72-150e6abe419d>\u001b[0m in \u001b[0;36m<cell line: 28>\u001b[0;34m()\u001b[0m\n\u001b[1;32m     58\u001b[0m         \u001b[0;32mfor\u001b[0m \u001b[0mepoch\u001b[0m \u001b[0;32min\u001b[0m \u001b[0mrange\u001b[0m\u001b[0;34m(\u001b[0m\u001b[0mnum_epochs\u001b[0m\u001b[0;34m)\u001b[0m\u001b[0;34m:\u001b[0m\u001b[0;34m\u001b[0m\u001b[0;34m\u001b[0m\u001b[0m\n\u001b[1;32m     59\u001b[0m \u001b[0;34m\u001b[0m\u001b[0m\n\u001b[0;32m---> 60\u001b[0;31m             \u001b[0mtrain_loss\u001b[0m\u001b[0;34m,\u001b[0m \u001b[0mstop\u001b[0m \u001b[0;34m=\u001b[0m \u001b[0mtrain_model\u001b[0m\u001b[0;34m(\u001b[0m\u001b[0mmodel\u001b[0m\u001b[0;34m,\u001b[0m \u001b[0mtrain_loader\u001b[0m\u001b[0;34m,\u001b[0m \u001b[0mtest_loader\u001b[0m\u001b[0;34m,\u001b[0m \u001b[0mcriterion\u001b[0m\u001b[0;34m,\u001b[0m \u001b[0moptimizer\u001b[0m\u001b[0;34m,\u001b[0m \u001b[0mdevice\u001b[0m\u001b[0;34m,\u001b[0m \u001b[0mearly_stopping\u001b[0m\u001b[0;34m)\u001b[0m\u001b[0;34m\u001b[0m\u001b[0;34m\u001b[0m\u001b[0m\n\u001b[0m\u001b[1;32m     61\u001b[0m             \u001b[0mf\u001b[0m\u001b[0;34m.\u001b[0m\u001b[0mwrite\u001b[0m\u001b[0;34m(\u001b[0m\u001b[0;34mf\"Epoch [{epoch+1}/{num_epochs}], Loss: {train_loss:.4f}\\n\"\u001b[0m\u001b[0;34m)\u001b[0m\u001b[0;34m\u001b[0m\u001b[0;34m\u001b[0m\u001b[0m\n\u001b[1;32m     62\u001b[0m             \u001b[0mprint\u001b[0m\u001b[0;34m(\u001b[0m\u001b[0;34mf\"Epoch [{epoch+1}/{num_epochs}], Loss: {train_loss:.4f}\"\u001b[0m\u001b[0;34m)\u001b[0m\u001b[0;34m\u001b[0m\u001b[0;34m\u001b[0m\u001b[0m\n",
            "\u001b[0;32m<ipython-input-66-f73f1feed975>\u001b[0m in \u001b[0;36mtrain_model\u001b[0;34m(model, train_loader, val_loader, criterion, optimizer, device, early_stopping)\u001b[0m\n\u001b[1;32m     12\u001b[0m         \u001b[0;31m#print(\"targets.shape\",targets.shape)\u001b[0m\u001b[0;34m\u001b[0m\u001b[0;34m\u001b[0m\u001b[0m\n\u001b[1;32m     13\u001b[0m         \u001b[0mloss\u001b[0m \u001b[0;34m=\u001b[0m \u001b[0mcriterion\u001b[0m\u001b[0;34m(\u001b[0m\u001b[0moutputs\u001b[0m\u001b[0;34m,\u001b[0m \u001b[0mtargets\u001b[0m\u001b[0;34m)\u001b[0m\u001b[0;34m\u001b[0m\u001b[0;34m\u001b[0m\u001b[0m\n\u001b[0;32m---> 14\u001b[0;31m         \u001b[0mloss\u001b[0m\u001b[0;34m.\u001b[0m\u001b[0mbackward\u001b[0m\u001b[0;34m(\u001b[0m\u001b[0;34m)\u001b[0m\u001b[0;34m\u001b[0m\u001b[0;34m\u001b[0m\u001b[0m\n\u001b[0m\u001b[1;32m     15\u001b[0m         \u001b[0moptimizer\u001b[0m\u001b[0;34m.\u001b[0m\u001b[0mstep\u001b[0m\u001b[0;34m(\u001b[0m\u001b[0;34m)\u001b[0m\u001b[0;34m\u001b[0m\u001b[0;34m\u001b[0m\u001b[0m\n\u001b[1;32m     16\u001b[0m         \u001b[0mrunning_loss\u001b[0m \u001b[0;34m+=\u001b[0m \u001b[0mloss\u001b[0m\u001b[0;34m.\u001b[0m\u001b[0mitem\u001b[0m\u001b[0;34m(\u001b[0m\u001b[0;34m)\u001b[0m\u001b[0;34m\u001b[0m\u001b[0;34m\u001b[0m\u001b[0m\n",
            "\u001b[0;32m/usr/local/lib/python3.10/dist-packages/torch/_tensor.py\u001b[0m in \u001b[0;36mbackward\u001b[0;34m(self, gradient, retain_graph, create_graph, inputs)\u001b[0m\n\u001b[1;32m    579\u001b[0m                 \u001b[0minputs\u001b[0m\u001b[0;34m=\u001b[0m\u001b[0minputs\u001b[0m\u001b[0;34m,\u001b[0m\u001b[0;34m\u001b[0m\u001b[0;34m\u001b[0m\u001b[0m\n\u001b[1;32m    580\u001b[0m             )\n\u001b[0;32m--> 581\u001b[0;31m         torch.autograd.backward(\n\u001b[0m\u001b[1;32m    582\u001b[0m             \u001b[0mself\u001b[0m\u001b[0;34m,\u001b[0m \u001b[0mgradient\u001b[0m\u001b[0;34m,\u001b[0m \u001b[0mretain_graph\u001b[0m\u001b[0;34m,\u001b[0m \u001b[0mcreate_graph\u001b[0m\u001b[0;34m,\u001b[0m \u001b[0minputs\u001b[0m\u001b[0;34m=\u001b[0m\u001b[0minputs\u001b[0m\u001b[0;34m\u001b[0m\u001b[0;34m\u001b[0m\u001b[0m\n\u001b[1;32m    583\u001b[0m         )\n",
            "\u001b[0;32m/usr/local/lib/python3.10/dist-packages/torch/autograd/__init__.py\u001b[0m in \u001b[0;36mbackward\u001b[0;34m(tensors, grad_tensors, retain_graph, create_graph, grad_variables, inputs)\u001b[0m\n\u001b[1;32m    345\u001b[0m     \u001b[0;31m# some Python versions print out the first line of a multi-line function\u001b[0m\u001b[0;34m\u001b[0m\u001b[0;34m\u001b[0m\u001b[0m\n\u001b[1;32m    346\u001b[0m     \u001b[0;31m# calls in the traceback and some print out the last line\u001b[0m\u001b[0;34m\u001b[0m\u001b[0;34m\u001b[0m\u001b[0m\n\u001b[0;32m--> 347\u001b[0;31m     _engine_run_backward(\n\u001b[0m\u001b[1;32m    348\u001b[0m         \u001b[0mtensors\u001b[0m\u001b[0;34m,\u001b[0m\u001b[0;34m\u001b[0m\u001b[0;34m\u001b[0m\u001b[0m\n\u001b[1;32m    349\u001b[0m         \u001b[0mgrad_tensors_\u001b[0m\u001b[0;34m,\u001b[0m\u001b[0;34m\u001b[0m\u001b[0;34m\u001b[0m\u001b[0m\n",
            "\u001b[0;32m/usr/local/lib/python3.10/dist-packages/torch/autograd/graph.py\u001b[0m in \u001b[0;36m_engine_run_backward\u001b[0;34m(t_outputs, *args, **kwargs)\u001b[0m\n\u001b[1;32m    823\u001b[0m         \u001b[0munregister_hooks\u001b[0m \u001b[0;34m=\u001b[0m \u001b[0m_register_logging_hooks_on_whole_graph\u001b[0m\u001b[0;34m(\u001b[0m\u001b[0mt_outputs\u001b[0m\u001b[0;34m)\u001b[0m\u001b[0;34m\u001b[0m\u001b[0;34m\u001b[0m\u001b[0m\n\u001b[1;32m    824\u001b[0m     \u001b[0;32mtry\u001b[0m\u001b[0;34m:\u001b[0m\u001b[0;34m\u001b[0m\u001b[0;34m\u001b[0m\u001b[0m\n\u001b[0;32m--> 825\u001b[0;31m         return Variable._execution_engine.run_backward(  # Calls into the C++ engine to run the backward pass\n\u001b[0m\u001b[1;32m    826\u001b[0m             \u001b[0mt_outputs\u001b[0m\u001b[0;34m,\u001b[0m \u001b[0;34m*\u001b[0m\u001b[0margs\u001b[0m\u001b[0;34m,\u001b[0m \u001b[0;34m**\u001b[0m\u001b[0mkwargs\u001b[0m\u001b[0;34m\u001b[0m\u001b[0;34m\u001b[0m\u001b[0m\n\u001b[1;32m    827\u001b[0m         )  # Calls into the C++ engine to run the backward pass\n",
            "\u001b[0;31mKeyboardInterrupt\u001b[0m: "
          ]
        }
      ]
    },
    {
      "cell_type": "code",
      "execution_count": null,
      "metadata": {
        "colab": {
          "base_uri": "https://localhost:8080/"
        },
        "id": "c2IT9OmrYO48",
        "outputId": "1328e908-c0cb-4692-f2bb-4332aa03e203"
      },
      "outputs": [
        {
          "output_type": "stream",
          "name": "stdout",
          "text": [
            "train_inputs.shape[-1] =  14\n",
            "output_size =  4\n",
            "TimeSeriesModel(\n",
            "  (conv1): Conv1d(14, 16, kernel_size=(3,), stride=(1,), padding=same, padding_mode=reflect)\n",
            "  (relu1): ReLU()\n",
            "  (transformer): TransformerEncoder(\n",
            "    (layers): ModuleList(\n",
            "      (0-1): 2 x TransformerEncoderLayer(\n",
            "        (self_attn): MultiheadAttention(\n",
            "          (out_proj): NonDynamicallyQuantizableLinear(in_features=16, out_features=16, bias=True)\n",
            "        )\n",
            "        (linear1): Linear(in_features=16, out_features=64, bias=True)\n",
            "        (dropout): Dropout(p=0.1, inplace=False)\n",
            "        (linear2): Linear(in_features=64, out_features=16, bias=True)\n",
            "        (norm1): LayerNorm((16,), eps=1e-05, elementwise_affine=True)\n",
            "        (norm2): LayerNorm((16,), eps=1e-05, elementwise_affine=True)\n",
            "        (dropout1): Dropout(p=0.1, inplace=False)\n",
            "        (dropout2): Dropout(p=0.1, inplace=False)\n",
            "      )\n",
            "    )\n",
            "  )\n",
            "  (relu2): ReLU()\n",
            "  (classification_layer): Linear(in_features=16, out_features=4, bias=True)\n",
            ")\n"
          ]
        },
        {
          "output_type": "stream",
          "name": "stderr",
          "text": [
            "/usr/local/lib/python3.10/dist-packages/torch/nn/modules/transformer.py:379: UserWarning: enable_nested_tensor is True, but self.use_nested_tensor is False because encoder_layer.self_attn.batch_first was not True(use batch_first for better inference performance)\n",
            "  warnings.warn(\n"
          ]
        }
      ],
      "source": [
        "# Creazione del modello\n",
        "model = TimeSeriesModel(train_inputs.shape[-1], output_size,\"small\",d_model = 16, n_head= 4, dim_feedforward= 64, num_layers=2, kernel_size=3)\n",
        "\n",
        "for m in model.modules():\n",
        "    if isinstance(m, (nn.Conv1d, nn.Conv2d, nn.Conv3d, nn.Linear)):\n",
        "        nn.init.kaiming_normal_(m.weight, nonlinearity='relu')  # For ReLU activation\n",
        "    if isinstance(m, (nn.TransformerEncoderLayer)):\n",
        "        nn.init.xavier_uniform_(m.linear1.weight)\n",
        "        nn.init.xavier_uniform_(m.linear2.weight)\n",
        "\n",
        "print(f\"train_inputs.shape[-1] =  {train_inputs.shape[-1]}\")\n",
        "print(f\"output_size =  {output_size}\")\n",
        "\n",
        "#print(\"\\n MODELLO \\n\")\n",
        "\n",
        "print(model)\n",
        "\n",
        "\n"
      ]
    },
    {
      "cell_type": "code",
      "execution_count": null,
      "metadata": {
        "id": "gH4dIRVg08ZA"
      },
      "outputs": [],
      "source": [
        "\n",
        "device = torch.device(\"cuda\" if torch.cuda.is_available() else \"cpu\")\n",
        "model.to(device)\n",
        "#summary(model, (train_inputs.shape[-1], output_size), device)\n",
        "#class_counts = torch.tensor([train_dataset.num_down, train_dataset.num_neutral, train_dataset.num_up], dtype=torch.float)\n",
        "class_counts = torch.tensor([dataset.num_down, dataset.num_neutral, dataset.num_up], dtype=torch.float)\n",
        "class_weights = 1.0 / class_counts\n",
        "class_weights = class_weights / class_weights.sum()\n",
        "\n",
        "\n",
        "# Definizione della loss e dell'optimizer\n",
        "criterion = nn.CrossEntropyLoss()#weight=class_weights.to(device))\n",
        "optimizer = optim.Adam(model.parameters(), lr=learning_rate)\n",
        "\n"
      ]
    },
    {
      "cell_type": "code",
      "execution_count": null,
      "metadata": {
        "id": "95aOa0yR8Gj4"
      },
      "outputs": [],
      "source": [
        "early_stopping = EarlyStopping(delta=0.001)"
      ]
    },
    {
      "cell_type": "code",
      "execution_count": null,
      "metadata": {
        "colab": {
          "base_uri": "https://localhost:8080/"
        },
        "id": "mb6TNM1R1G2v",
        "outputId": "9bec8ce6-062a-4044-e911-164d95b4522b"
      },
      "outputs": [
        {
          "output_type": "stream",
          "name": "stdout",
          "text": [
            "Avg Train Loss: 1.2548, Avg Val Loss: 1.1137\n",
            "Epoch [1/1000], Loss: 1.2548\n",
            "Avg Train Loss: 1.1084, Avg Val Loss: 1.0123\n",
            "Epoch [2/1000], Loss: 1.1084\n",
            "Avg Train Loss: 1.0276, Avg Val Loss: 0.9377\n",
            "Epoch [3/1000], Loss: 1.0276\n",
            "Avg Train Loss: 0.9663, Avg Val Loss: 0.8838\n",
            "Epoch [4/1000], Loss: 0.9663\n",
            "Avg Train Loss: 0.9246, Avg Val Loss: 0.8453\n",
            "Epoch [5/1000], Loss: 0.9246\n",
            "Avg Train Loss: 0.8932, Avg Val Loss: 0.8179\n",
            "Epoch [6/1000], Loss: 0.8932\n",
            "Avg Train Loss: 0.8661, Avg Val Loss: 0.7934\n",
            "Epoch [7/1000], Loss: 0.8661\n",
            "Avg Train Loss: 0.8409, Avg Val Loss: 0.7710\n",
            "Epoch [8/1000], Loss: 0.8409\n",
            "Avg Train Loss: 0.8206, Avg Val Loss: 0.7495\n",
            "Epoch [9/1000], Loss: 0.8206\n",
            "Avg Train Loss: 0.8012, Avg Val Loss: 0.7256\n",
            "Epoch [10/1000], Loss: 0.8012\n",
            "Avg Train Loss: 0.7776, Avg Val Loss: 0.7032\n",
            "Epoch [11/1000], Loss: 0.7776\n",
            "Avg Train Loss: 0.7585, Avg Val Loss: 0.6773\n",
            "Epoch [12/1000], Loss: 0.7585\n",
            "Avg Train Loss: 0.7357, Avg Val Loss: 0.6528\n",
            "Epoch [13/1000], Loss: 0.7357\n",
            "Avg Train Loss: 0.7128, Avg Val Loss: 0.6289\n",
            "Epoch [14/1000], Loss: 0.7128\n",
            "Avg Train Loss: 0.6937, Avg Val Loss: 0.6108\n",
            "Epoch [15/1000], Loss: 0.6937\n",
            "Avg Train Loss: 0.6701, Avg Val Loss: 0.5906\n",
            "Epoch [16/1000], Loss: 0.6701\n",
            "Avg Train Loss: 0.6470, Avg Val Loss: 0.5719\n",
            "Epoch [17/1000], Loss: 0.6470\n",
            "Avg Train Loss: 0.6277, Avg Val Loss: 0.5537\n",
            "Epoch [18/1000], Loss: 0.6277\n",
            "Avg Train Loss: 0.6077, Avg Val Loss: 0.5357\n",
            "Epoch [19/1000], Loss: 0.6077\n",
            "Avg Train Loss: 0.5882, Avg Val Loss: 0.5185\n",
            "Epoch [20/1000], Loss: 0.5882\n",
            "Avg Train Loss: 0.5687, Avg Val Loss: 0.5028\n",
            "Epoch [21/1000], Loss: 0.5687\n",
            "Avg Train Loss: 0.5499, Avg Val Loss: 0.4907\n",
            "Epoch [22/1000], Loss: 0.5499\n",
            "Avg Train Loss: 0.5354, Avg Val Loss: 0.4755\n",
            "Epoch [23/1000], Loss: 0.5354\n",
            "Avg Train Loss: 0.5214, Avg Val Loss: 0.4639\n",
            "Epoch [24/1000], Loss: 0.5214\n",
            "Avg Train Loss: 0.5071, Avg Val Loss: 0.4535\n",
            "Epoch [25/1000], Loss: 0.5071\n",
            "Avg Train Loss: 0.4939, Avg Val Loss: 0.4431\n",
            "Epoch [26/1000], Loss: 0.4939\n",
            "Avg Train Loss: 0.4775, Avg Val Loss: 0.4299\n",
            "Epoch [27/1000], Loss: 0.4775\n",
            "Avg Train Loss: 0.4652, Avg Val Loss: 0.4241\n",
            "Epoch [28/1000], Loss: 0.4652\n",
            "Avg Train Loss: 0.4559, Avg Val Loss: 0.4120\n",
            "Epoch [29/1000], Loss: 0.4559\n",
            "Avg Train Loss: 0.4431, Avg Val Loss: 0.4051\n",
            "Epoch [30/1000], Loss: 0.4431\n",
            "Avg Train Loss: 0.4335, Avg Val Loss: 0.3929\n",
            "Epoch [31/1000], Loss: 0.4335\n",
            "Avg Train Loss: 0.4224, Avg Val Loss: 0.3850\n",
            "Epoch [32/1000], Loss: 0.4224\n",
            "Avg Train Loss: 0.4118, Avg Val Loss: 0.3813\n",
            "Epoch [33/1000], Loss: 0.4118\n",
            "Avg Train Loss: 0.4030, Avg Val Loss: 0.3742\n",
            "Epoch [34/1000], Loss: 0.4030\n",
            "Avg Train Loss: 0.3942, Avg Val Loss: 0.3667\n",
            "Epoch [35/1000], Loss: 0.3942\n",
            "Avg Train Loss: 0.3885, Avg Val Loss: 0.3604\n",
            "Epoch [36/1000], Loss: 0.3885\n",
            "Avg Train Loss: 0.3762, Avg Val Loss: 0.3564\n",
            "Epoch [37/1000], Loss: 0.3762\n",
            "Avg Train Loss: 0.3739, Avg Val Loss: 0.3513\n",
            "Epoch [38/1000], Loss: 0.3739\n",
            "Avg Train Loss: 0.3619, Avg Val Loss: 0.3479\n",
            "Epoch [39/1000], Loss: 0.3619\n",
            "Avg Train Loss: 0.3602, Avg Val Loss: 0.3390\n",
            "Epoch [40/1000], Loss: 0.3602\n",
            "Avg Train Loss: 0.3526, Avg Val Loss: 0.3362\n",
            "Epoch [41/1000], Loss: 0.3526\n",
            "Avg Train Loss: 0.3451, Avg Val Loss: 0.3330\n",
            "Epoch [42/1000], Loss: 0.3451\n",
            "Avg Train Loss: 0.3404, Avg Val Loss: 0.3333\n",
            "Epoch [43/1000], Loss: 0.3404\n",
            "Avg Train Loss: 0.3340, Avg Val Loss: 0.3268\n",
            "Epoch [44/1000], Loss: 0.3340\n",
            "Avg Train Loss: 0.3323, Avg Val Loss: 0.3238\n",
            "Epoch [45/1000], Loss: 0.3323\n",
            "Avg Train Loss: 0.3283, Avg Val Loss: 0.3221\n",
            "Epoch [46/1000], Loss: 0.3283\n",
            "Avg Train Loss: 0.3190, Avg Val Loss: 0.3201\n",
            "Epoch [47/1000], Loss: 0.3190\n",
            "Avg Train Loss: 0.3171, Avg Val Loss: 0.3148\n",
            "Epoch [48/1000], Loss: 0.3171\n",
            "Avg Train Loss: 0.3111, Avg Val Loss: 0.3154\n",
            "Epoch [49/1000], Loss: 0.3111\n",
            "Avg Train Loss: 0.3090, Avg Val Loss: 0.3170\n",
            "Epoch [50/1000], Loss: 0.3090\n",
            "Avg Train Loss: 0.3048, Avg Val Loss: 0.3079\n",
            "Epoch [51/1000], Loss: 0.3048\n",
            "Avg Train Loss: 0.3027, Avg Val Loss: 0.3077\n",
            "Epoch [52/1000], Loss: 0.3027\n",
            "Avg Train Loss: 0.2993, Avg Val Loss: 0.3034\n",
            "Epoch [53/1000], Loss: 0.2993\n",
            "Avg Train Loss: 0.2921, Avg Val Loss: 0.3028\n",
            "Epoch [54/1000], Loss: 0.2921\n",
            "Avg Train Loss: 0.2890, Avg Val Loss: 0.3010\n",
            "Epoch [55/1000], Loss: 0.2890\n",
            "Avg Train Loss: 0.2901, Avg Val Loss: 0.2972\n",
            "Epoch [56/1000], Loss: 0.2901\n",
            "Avg Train Loss: 0.2856, Avg Val Loss: 0.3025\n",
            "Epoch [57/1000], Loss: 0.2856\n",
            "Avg Train Loss: 0.2849, Avg Val Loss: 0.2932\n",
            "Epoch [58/1000], Loss: 0.2849\n",
            "Avg Train Loss: 0.2821, Avg Val Loss: 0.2947\n",
            "Epoch [59/1000], Loss: 0.2821\n",
            "Avg Train Loss: 0.2803, Avg Val Loss: 0.2922\n",
            "Epoch [60/1000], Loss: 0.2803\n",
            "Avg Train Loss: 0.2757, Avg Val Loss: 0.2921\n",
            "Epoch [61/1000], Loss: 0.2757\n",
            "Avg Train Loss: 0.2748, Avg Val Loss: 0.2927\n",
            "Epoch [62/1000], Loss: 0.2748\n",
            "Avg Train Loss: 0.2737, Avg Val Loss: 0.2925\n",
            "Epoch [63/1000], Loss: 0.2737\n",
            "Avg Train Loss: 0.2699, Avg Val Loss: 0.2882\n",
            "Epoch [64/1000], Loss: 0.2699\n",
            "Avg Train Loss: 0.2698, Avg Val Loss: 0.2876\n",
            "Epoch [65/1000], Loss: 0.2698\n",
            "Avg Train Loss: 0.2702, Avg Val Loss: 0.2868\n",
            "Epoch [66/1000], Loss: 0.2702\n",
            "Avg Train Loss: 0.2644, Avg Val Loss: 0.2834\n",
            "Epoch [67/1000], Loss: 0.2644\n",
            "Avg Train Loss: 0.2616, Avg Val Loss: 0.2853\n",
            "Epoch [68/1000], Loss: 0.2616\n",
            "Avg Train Loss: 0.2558, Avg Val Loss: 0.2854\n",
            "Epoch [69/1000], Loss: 0.2558\n",
            "Avg Train Loss: 0.2570, Avg Val Loss: 0.2877\n",
            "Epoch [70/1000], Loss: 0.2570\n",
            "Avg Train Loss: 0.2567, Avg Val Loss: 0.2790\n",
            "Epoch [71/1000], Loss: 0.2567\n",
            "Avg Train Loss: 0.2590, Avg Val Loss: 0.2804\n",
            "Epoch [72/1000], Loss: 0.2590\n",
            "Avg Train Loss: 0.2562, Avg Val Loss: 0.2718\n",
            "Epoch [73/1000], Loss: 0.2562\n",
            "Avg Train Loss: 0.2546, Avg Val Loss: 0.2789\n",
            "Epoch [74/1000], Loss: 0.2546\n",
            "Avg Train Loss: 0.2540, Avg Val Loss: 0.2792\n",
            "Epoch [75/1000], Loss: 0.2540\n",
            "Avg Train Loss: 0.2489, Avg Val Loss: 0.2762\n",
            "Epoch [76/1000], Loss: 0.2489\n",
            "Avg Train Loss: 0.2484, Avg Val Loss: 0.2730\n",
            "Epoch [77/1000], Loss: 0.2484\n",
            "Avg Train Loss: 0.2458, Avg Val Loss: 0.2696\n",
            "Epoch [78/1000], Loss: 0.2458\n",
            "Avg Train Loss: 0.2457, Avg Val Loss: 0.2738\n",
            "Epoch [79/1000], Loss: 0.2457\n",
            "Avg Train Loss: 0.2431, Avg Val Loss: 0.2744\n",
            "Epoch [80/1000], Loss: 0.2431\n",
            "Avg Train Loss: 0.2449, Avg Val Loss: 0.2730\n",
            "Epoch [81/1000], Loss: 0.2449\n",
            "Avg Train Loss: 0.2431, Avg Val Loss: 0.2712\n",
            "Epoch [82/1000], Loss: 0.2431\n",
            "Avg Train Loss: 0.2365, Avg Val Loss: 0.2713\n",
            "Early stopping triggered at epoch 83\n",
            "Epoch [83/1000], Loss: 0.2365\n"
          ]
        }
      ],
      "source": [
        "# Training del modello\n",
        "for epoch in range(num_epochs):\n",
        "    train_loss,stop = train_model(model, train_loader, test_loader, criterion, optimizer, device,early_stopping)\n",
        "    #val_loss = evaluate_model(model, test_loader, device\n",
        "\n",
        "    print(f\"Epoch [{epoch+1}/{num_epochs}], Loss: {train_loss:.4f}\")\n",
        "    if stop:\n",
        "        break\n"
      ]
    },
    {
      "cell_type": "code",
      "execution_count": null,
      "metadata": {
        "id": "qcrcIaiD1Ij2",
        "colab": {
          "base_uri": "https://localhost:8080/"
        },
        "outputId": "d37ebfd3-3d79-480a-8cf5-2a81b3987f65"
      },
      "outputs": [
        {
          "output_type": "stream",
          "name": "stdout",
          "text": [
            "all_predictions = \n",
            "[1, 2, 2, 2, 0, 2, 1, 2, 0, 0, 2, 1, 1, 2, 2, 1, 2, 1, 0, 2, 1, 1, 2, 0, 1, 2, 1, 1, 1, 1, 1, 1, 0, 2, 1, 0, 1, 1, 1, 0, 1, 2, 2, 2, 2, 1, 1, 2, 2, 1, 1, 0, 1, 2, 0, 2, 0, 1, 1, 2, 1, 2, 2, 2, 1, 2, 1, 2, 2, 2, 1, 1, 0, 2, 1, 0, 2, 1, 0, 1, 0, 2, 0, 1, 2, 2, 2, 2, 1, 2, 1, 1, 0, 2, 1, 2, 1, 1, 2, 2, 1, 2, 0, 2, 2, 1, 2, 2, 1, 0, 1, 1, 0, 0, 2, 2, 2, 2, 2, 2, 2, 0, 1, 0, 2, 2, 1, 2, 1, 2, 2, 2, 1, 2, 1, 0, 2, 0, 2, 1, 2, 2, 2, 1, 2, 2, 2, 0, 2, 2, 2, 1, 1, 2, 2, 2, 1, 2, 0, 2, 2, 1, 2, 0, 2, 2, 2, 2, 1, 1, 1, 1, 0, 0, 2, 1, 2, 2, 0, 0, 2, 1, 1, 1, 1, 1, 1, 2, 0, 2, 2, 1, 2, 1, 2, 1, 2, 2, 1, 0, 1, 2, 0, 2, 1, 1, 2, 2, 1, 1, 1, 2, 1, 0, 0, 1, 0, 2, 1, 0, 0, 1, 0, 0, 0, 1, 1, 1, 1, 2, 0, 2, 2, 0, 2, 0, 2, 2, 0, 2, 1, 2, 1, 2, 1, 2, 2, 0, 0, 1, 2, 2, 2, 2, 1, 1, 2, 0, 2, 2, 2, 0, 1, 1, 2, 2, 1, 1, 1, 2, 2, 2, 0, 1, 1, 2, 2, 2, 2, 2, 2, 2, 2, 1, 2, 1, 0, 2, 1, 2, 1, 2, 0, 2, 2, 2, 2, 1, 1, 2, 2, 0, 1, 0, 1, 1, 1, 2, 1, 1, 2, 2, 2, 2, 2, 1, 2, 1, 2, 2, 2, 2, 2, 2, 1, 0, 1, 0, 1, 0, 2, 2, 2, 0, 2, 1, 1, 2, 1, 2, 2, 2, 1, 2, 2, 2, 2, 2, 0, 2, 0, 2, 1, 2, 1, 1, 2, 2, 2, 2, 1, 2, 2, 2, 2, 1, 1, 0, 1, 1, 0, 2, 2, 2, 0, 1, 2, 1, 1, 0, 2, 2, 2, 0, 0, 0, 2, 0, 2, 1, 0, 1, 0, 2, 1, 2, 1, 1, 2, 2, 2, 2, 2, 2, 0, 1, 2, 2, 2, 2, 1, 1, 1, 2, 2, 0, 1, 2, 1, 2, 2, 1, 2, 1, 2, 2, 1, 2, 0, 2, 1, 2, 1, 2, 2, 2, 1, 2, 1, 2, 1, 0, 2, 2, 1, 2, 2, 2, 0, 1, 1, 0, 2, 2, 2, 2, 1, 1, 2, 2, 1, 1, 1, 1, 2, 1, 0, 2, 1, 0, 0, 1, 0, 1, 0, 2, 2, 2, 2, 2, 2, 1, 0, 2, 2, 0, 2, 2, 0, 0, 2, 2, 1, 2, 1, 2, 2, 0, 2, 0, 0, 2, 2, 1, 0, 2, 0, 2, 1, 2, 2, 0, 2, 2, 2, 0, 1, 2, 1, 1, 2, 2, 0, 0, 2, 2, 2, 2, 1, 2, 0, 0, 0, 0, 2, 0, 2, 1, 2, 2, 2, 2, 2, 2, 1, 1, 0, 0, 1, 2, 1, 2, 0, 1, 1, 1, 2, 1]\n",
            "all_targets = \n",
            "[1, 2, 2, 2, 0, 2, 1, 2, 0, 0, 2, 1, 1, 2, 2, 0, 2, 1, 0, 2, 1, 1, 2, 1, 1, 2, 1, 1, 1, 1, 1, 1, 0, 2, 1, 0, 1, 2, 2, 1, 1, 1, 2, 2, 2, 1, 1, 2, 2, 1, 2, 0, 1, 2, 0, 2, 0, 1, 1, 2, 1, 2, 2, 2, 1, 2, 0, 2, 2, 2, 2, 1, 0, 2, 1, 0, 2, 1, 0, 2, 0, 2, 0, 1, 2, 2, 2, 2, 1, 2, 1, 1, 0, 2, 1, 2, 1, 1, 2, 2, 1, 2, 0, 1, 2, 1, 2, 2, 1, 0, 1, 1, 0, 0, 2, 1, 2, 2, 1, 2, 2, 1, 1, 0, 2, 2, 1, 2, 1, 2, 2, 2, 1, 2, 2, 0, 2, 0, 2, 1, 2, 2, 1, 1, 2, 2, 2, 0, 2, 1, 2, 1, 1, 2, 2, 2, 1, 2, 1, 2, 2, 1, 1, 0, 2, 2, 2, 2, 1, 1, 1, 1, 0, 0, 2, 2, 2, 2, 0, 0, 2, 1, 1, 2, 0, 1, 1, 2, 0, 2, 2, 1, 1, 1, 2, 1, 2, 2, 1, 0, 2, 2, 0, 2, 1, 0, 2, 2, 1, 1, 1, 2, 1, 0, 0, 1, 0, 2, 1, 0, 0, 1, 0, 0, 0, 2, 1, 1, 1, 2, 0, 2, 2, 0, 2, 0, 2, 2, 0, 2, 1, 2, 1, 2, 1, 2, 2, 0, 0, 1, 2, 2, 2, 2, 1, 1, 2, 0, 2, 2, 2, 0, 1, 1, 2, 2, 1, 1, 1, 2, 2, 2, 1, 1, 2, 2, 2, 2, 2, 2, 2, 2, 2, 1, 2, 2, 0, 2, 1, 2, 1, 2, 0, 2, 2, 2, 2, 2, 1, 2, 2, 0, 1, 0, 1, 1, 1, 2, 1, 1, 2, 2, 2, 1, 1, 0, 2, 1, 1, 2, 2, 2, 2, 2, 2, 0, 1, 0, 1, 0, 2, 2, 2, 0, 2, 1, 1, 2, 1, 2, 2, 2, 2, 2, 2, 2, 2, 1, 0, 2, 0, 2, 1, 2, 1, 1, 2, 2, 2, 2, 1, 2, 2, 2, 2, 1, 1, 0, 1, 1, 0, 2, 2, 0, 0, 1, 2, 2, 0, 0, 2, 2, 2, 1, 0, 0, 2, 0, 2, 1, 0, 2, 0, 2, 2, 2, 1, 1, 2, 2, 2, 2, 2, 2, 0, 2, 2, 2, 2, 2, 2, 1, 1, 2, 2, 0, 1, 2, 1, 2, 2, 1, 2, 2, 2, 2, 1, 2, 0, 2, 1, 2, 1, 2, 2, 2, 1, 2, 1, 2, 2, 0, 2, 2, 1, 2, 2, 2, 0, 1, 2, 0, 2, 2, 2, 2, 1, 1, 2, 1, 1, 1, 1, 1, 2, 1, 0, 2, 1, 0, 0, 1, 0, 1, 0, 2, 2, 2, 2, 2, 2, 2, 0, 2, 2, 0, 2, 2, 0, 1, 2, 2, 1, 2, 1, 2, 2, 0, 2, 1, 0, 2, 2, 1, 0, 2, 0, 2, 1, 2, 2, 0, 2, 2, 2, 1, 1, 2, 1, 2, 2, 2, 0, 0, 2, 2, 2, 2, 1, 2, 0, 0, 0, 0, 2, 0, 2, 1, 2, 1, 2, 2, 2, 2, 1, 1, 0, 0, 1, 2, 1, 2, 0, 1, 1, 1, 2, 2]\n",
            "Accuracy sul test set: 0.8996\n"
          ]
        }
      ],
      "source": [
        "# Valutazione del modello sul test set\n",
        "test_accuracy, all_predictions, all_targets = evaluate_model(model, test_loader, device)\n",
        "#test_accuracy, all_predictions, all_targets = evaluate_model(model, test_loader, device)\n",
        "print(f\"Accuracy sul test set: {test_accuracy:.4f}\")\n"
      ]
    },
    {
      "cell_type": "code",
      "execution_count": null,
      "metadata": {
        "id": "FahM7YyiOO7i",
        "colab": {
          "base_uri": "https://localhost:8080/",
          "height": 483
        },
        "outputId": "1f2d563f-8954-4dd2-fe56-b1209f6ef330"
      },
      "outputs": [
        {
          "output_type": "display_data",
          "data": {
            "text/plain": [
              "<Figure size 600x400 with 2 Axes>"
            ],
            "image/png": "[encoded data removed]"
          },
          "metadata": {}
        },
        {
          "output_type": "stream",
          "name": "stdout",
          "text": [
            "Matrice di Confusione:\n",
            "[[ 95   6   1]\n",
            " [  9 150  14]\n",
            " [  0  26 257]]\n"
          ]
        }
      ],
      "source": [
        "from sklearn.metrics import confusion_matrix\n",
        "import matplotlib.pyplot as plt\n",
        "import seaborn as sns\n",
        "\n",
        "\n",
        "# Calcolare la matrice di confusione\n",
        "cm = confusion_matrix(all_targets, all_predictions)\n",
        "\n",
        "# Visualizzare la matrice di confusione\n",
        "plt.figure(figsize=(6, 4))\n",
        "sns.heatmap(cm, annot=True, fmt='d', cmap='Blues', xticklabels=['Down', 'Neutral', 'Up','Very_Up'], yticklabels=['Down', 'Neutral', 'Up','Very_Up'])\n",
        "plt.ylabel('True Label')\n",
        "plt.xlabel('Predicted Label')\n",
        "plt.title('Confusion Matrix')\n",
        "plt.show()\n",
        "\n",
        "# Stampa la matrice di confusione\n",
        "print(\"Matrice di Confusione:\")\n",
        "print(cm)"
      ]
    },
    {
      "cell_type": "code",
      "execution_count": null,
      "metadata": {
        "id": "u13ey5qPaoQQ"
      },
      "outputs": [],
      "source": []
    },
    {
      "cell_type": "code",
      "execution_count": null,
      "metadata": {
        "id": "R3_BQ30f6fyh"
      },
      "outputs": [],
      "source": []
    },
    {
      "cell_type": "code",
      "execution_count": null,
      "metadata": {
        "id": "nNWPpHEEbOgx"
      },
      "outputs": [],
      "source": [
        "#!pip install -r /content/drive/MyDrive/StockPrediction/requirements.txt"
      ]
    },
    {
      "cell_type": "code",
      "execution_count": null,
      "metadata": {
        "id": "EHA0b4-DOZb2"
      },
      "outputs": [],
      "source": [
        "# dev = torch.device(\"cpu\")\n",
        "\n",
        "# if torch.cuda.is_available():\n",
        "#     print(f\"GPU {torch.cuda.get_device_name(0)} is available\")\n",
        "#     dev = torch.device(\"cuda\")\n",
        "\n",
        "# torch.set_default_device(dev)\n",
        "# torch.set_default_dtype(torch.float64)\n",
        "\n",
        "# print(dev.type)"
      ]
    },
    {
      "cell_type": "code",
      "execution_count": null,
      "metadata": {
        "id": "TyzLCjiRJyc4"
      },
      "outputs": [],
      "source": [
        "# def set_seed(seed):\n",
        "#     torch.manual_seed(seed)\n",
        "#     torch.cuda.manual_seed(seed)\n",
        "#     np.random.seed(seed)\n",
        "#     torch.backends.cudnn.benchmark = False\n",
        "#     torch.backends.cudnn.deterministic = True\n",
        "\n",
        "# # Fissa il seed\n",
        "# set_seed(42)"
      ]
    },
    {
      "cell_type": "code",
      "execution_count": null,
      "metadata": {
        "id": "GqKq5yIY2hlc"
      },
      "outputs": [],
      "source": [
        "# import os\n",
        "# import shutil\n",
        "\n",
        "# # Cartelle di Drive da vuotare o creare\n",
        "# folders = ['/content/drive/MyDrive/StockPrediction/models_saved', '/content/drive/MyDrive/StockPrediction/plot_saved']\n",
        "\n",
        "# for folder_path in folders:\n",
        "# # Controlla se la cartella esiste\n",
        "#     if os.path.exists(folder_path):\n",
        "#         # Elimina il contenuto della cartella\n",
        "#         shutil.rmtree(folder_path)\n",
        "#         # Ricrea la cartella vuota se necessario\n",
        "#         os.makedirs(folder_path)\n",
        "#     else:\n",
        "#         print(f\"La cartella {folder_path} non esiste, la creo.\")\n",
        "#         os.makedirs(folder_path)\n"
      ]
    },
    {
      "cell_type": "code",
      "execution_count": null,
      "metadata": {
        "id": "6HCSq6QnOaen"
      },
      "outputs": [],
      "source": [
        "# class SequenceDataset(Dataset[Tuple[Tensor, ...]]):\n",
        "#     def __init__(self, inputs: Tensor, targets: Tensor, sequence_length: int = 1, offset: int = None):\n",
        "#         assert inputs.size(0) == targets.size(0), \"Size mismatch between tensors\"\n",
        "#         assert  (offset == None) or (offset > 0), \"Offset non può essere negativo\"\n",
        "#         inputs = inputs[:-sequence_length]\n",
        "#         targets = targets[sequence_length:]\n",
        "#         self.inputs = []\n",
        "#         self.targets = []\n",
        "#         end_array = len(inputs)\n",
        "\n",
        "#         for start_index in range(0, end_array, offset if offset is not None else sequence_length):\n",
        "#             end_index = start_index + sequence_length\n",
        "#             if end_index > end_array:\n",
        "#                 break\n",
        "#             else:\n",
        "#                 self.inputs.append(torch.stack([inputs[j] for j in range(start_index, end_index)]))\n",
        "#                 self.targets.append(torch.stack([targets[k] for k in range(start_index, end_index)]))\n",
        "\n",
        "#     def __len__(self):\n",
        "#         return len(self.inputs)\n",
        "\n",
        "#     def __getitem__(self, index):\n",
        "#         return self.inputs[index], self.targets[index]"
      ]
    },
    {
      "cell_type": "code",
      "execution_count": null,
      "metadata": {
        "id": "QisMT7ADUqbe"
      },
      "outputs": [],
      "source": [
        "# dataset = pd.read_excel(\"/content/drive/MyDrive/StockPrediction/model_data.xlsx\", sheet_name=\"DATA\")\n",
        "\n",
        "# dataset = dataset.set_index('Data')\n",
        "\n",
        "# cleared_dataset = dataset.dropna()"
      ]
    },
    {
      "cell_type": "code",
      "execution_count": null,
      "metadata": {
        "id": "JBo34862Yf5E"
      },
      "outputs": [],
      "source": [
        "# from sklearn.preprocessing import MinMaxScaler\n",
        "# # Create a MinMaxScaler object\n",
        "# scaler = MinMaxScaler()\n",
        "\n",
        "# # Normalize the cleared dataset\n",
        "# normalized_dataset = scaler.fit_transform(cleared_dataset)\n",
        "# # Convert the normalized dataset back to a DataFrame\n",
        "# normalized_df = pd.DataFrame(normalized_dataset, columns=cleared_dataset.columns, index=cleared_dataset.index)\n",
        "\n",
        "# scaler_index = MinMaxScaler()\n",
        "# normalized_spxindex_dataset = scaler_index.fit_transform(cleared_dataset[['SPX Index']])\n",
        "\n",
        "# train_model_dataset = normalized_df[(normalized_df.index.year.isin([2019, 2020, 2021])) | ((normalized_df.index.year == 2022) & (normalized_df.index.month <= 6))]\n",
        "\n",
        "# real_world_dataset = normalized_df[((normalized_df.index.year == 2022) & (normalized_df.index.month > 6))| (normalized_df.index.year.isin([2023, 2024])) ]\n",
        "\n"
      ]
    },
    {
      "cell_type": "code",
      "execution_count": null,
      "metadata": {
        "id": "J-Z-5K8cYzsL"
      },
      "outputs": [],
      "source": [
        "# # train_inputs = train_model_dataset\n",
        "# train_inputs = train_model_dataset.iloc[:,:]\n",
        "# train_targets = train_model_dataset[['SPX Index']]\n",
        "\n",
        "# # realworl_inputs = real_world_dataset\n",
        "# realworl_inputs = real_world_dataset.iloc[:,:]\n",
        "# realworld_targets = real_world_dataset[['SPX Index']]"
      ]
    },
    {
      "cell_type": "code",
      "execution_count": null,
      "metadata": {
        "id": "ZCe12_35Y6PI"
      },
      "outputs": [],
      "source": []
    },
    {
      "cell_type": "code",
      "execution_count": null,
      "metadata": {
        "id": "VAyms6X_ZCdo"
      },
      "outputs": [],
      "source": [
        "# from sklearn.model_selection import train_test_split\n",
        "\n",
        "# X_train, X_test, y_train, y_test = train_test_split(train_inputs, train_targets, test_size=0.3, shuffle=False)\n",
        "\n",
        "# X_train_tensor = torch.tensor(X_train.to_numpy())\n",
        "\n",
        "# y_train_tensor = torch.tensor(y_train.to_numpy())\n",
        "\n",
        "# X_test_tensor = torch.tensor(X_test.to_numpy())\n",
        "\n",
        "# y_test_tensor = torch.tensor(y_test.to_numpy())\n",
        "\n"
      ]
    },
    {
      "cell_type": "code",
      "execution_count": null,
      "metadata": {
        "id": "3qV7unPAZS85"
      },
      "outputs": [],
      "source": [
        "# train_sequence = SequenceDataset(X_train_tensor, y_train_tensor, sequence_length=10, offset=5)\n",
        "\n",
        "# test_sequence = SequenceDataset(X_test_tensor, y_test_tensor, sequence_length=10,  offset=5)\n",
        "\n",
        "# train_dataloader = DataLoader(train_sequence, batch_size=10, generator=torch.Generator(device='cuda'), shuffle=False)\n",
        "\n",
        "# val_dataloader = DataLoader(test_sequence,  batch_size=10, generator=torch.Generator(device='cuda'), shuffle=False)\n",
        "\n"
      ]
    },
    {
      "cell_type": "code",
      "execution_count": null,
      "metadata": {
        "collapsed": true,
        "id": "guoyTf84vcP5"
      },
      "outputs": [],
      "source": [
        "# def print_batches(dataloader, batch_indices):\n",
        "#     for batch_idx, (x_batch, y_batch) in enumerate(train_dataloader):\n",
        "#         if batch_idx in batch_indices:\n",
        "#             print(f\"Batch {batch_idx + 1}:\")\n",
        "#             print(\"X_batch:\", x_batch)\n",
        "#             print(\"Y_batch:\", y_batch)\n",
        "#             print()  # Linea vuota per separare i batch\n",
        "#         if batch_idx >= max(batch_indices):\n",
        "#             break\n",
        "\n",
        "# # Stampa il primo batch\n",
        "# print_batches(train_dataloader, [0])"
      ]
    },
    {
      "cell_type": "code",
      "execution_count": null,
      "metadata": {
        "id": "BxLsJ3B4Za1i"
      },
      "outputs": [],
      "source": [
        "# class StockIndexTransformer(Module):\n",
        "#     def __init__(self,\n",
        "#                  input_size: int,\n",
        "#                  output_size: int,\n",
        "#                  d_model: int,\n",
        "#                  n_head: int = 8,\n",
        "#                  dim_feedforward: int = 2048,\n",
        "#                  num_layers: int = 6,\n",
        "#                  batch_first: bool = False,\n",
        "#                  enable_nested_tensor: bool = True,\n",
        "#                  kernel_size: int = 1) -> None:\n",
        "#         super(StockIndexTransformer, self).__init__()\n",
        "\n",
        "#         self.input_size = input_size\n",
        "#         self.output_size = output_size\n",
        "#         self.d_model = d_model\n",
        "\n",
        "#         self.linearInput = Conv1d(input_size, d_model, kernel_size=kernel_size, padding='same', padding_mode=\"reflect\")\n",
        "\n",
        "#         self.transformer = TransformerEncoder(TransformerEncoderLayer(d_model=d_model, nhead=n_head, dim_feedforward=dim_feedforward, batch_first = batch_first), num_layers=num_layers, enable_nested_tensor=enable_nested_tensor)\n",
        "\n",
        "#         self.linearOutput = Conv1d(d_model, output_size, kernel_size=kernel_size, padding='same', padding_mode=\"reflect\")\n",
        "\n",
        "#     def forward(self, src): # src: (batch, sequence, features)\n",
        "\n",
        "#         src = src.permute(0,2,1)\n",
        "\n",
        "#         src = self.linearInput(src)\n",
        "\n",
        "#         src = src.permute(0,2,1)\n",
        "\n",
        "#         # src =src.permute(1, 0, 2) # sequence, batches, features\n",
        "\n",
        "#         src = self.transformer(src)\n",
        "\n",
        "#         # src = src.permute(1, 0, 2) # batches, features, sequence\n",
        "\n",
        "#         src = src.permute(0,2,1)\n",
        "#         src =  self.linearOutput(src)\n",
        "#         src = src.permute(0,2,1)\n",
        "\n",
        "#         return src"
      ]
    },
    {
      "cell_type": "code",
      "execution_count": null,
      "metadata": {
        "id": "fmpVo5a1f6A5"
      },
      "outputs": [],
      "source": [
        "#model = StockIndexTransformer(train_inputs.shape[-1], train_targets.shape[-1], d_model=128, n_head = 2, dim_feedforward= 256, num_layers = 1, batch_first = True, enable_nested_tensor = True, kernel_size=5)"
      ]
    },
    {
      "cell_type": "code",
      "execution_count": null,
      "metadata": {
        "id": "gxiUwpVbf6aO"
      },
      "outputs": [],
      "source": [
        "# def train(verbose: bool = False, uuid= None):\n",
        "#     global train_dataloader\n",
        "#     global val_dataloader\n",
        "#     global model\n",
        "\n",
        "#     train_dataframe_log = pd.DataFrame()\n",
        "\n",
        "#     criterion = MSELoss()\n",
        "#     optimizer = Adam(model.parameters(), lr=0.001)\n",
        "\n",
        "\n",
        "#     train_losses = []\n",
        "#     val_losses = []\n",
        "#     mse_values = []\n",
        "#     mae_values = []\n",
        "#     mape_values = []\n",
        "#     early_stop_counter = 0\n",
        "\n",
        "\n",
        "#     # Training loop\n",
        "#     num_epochs = 9000\n",
        "#     patience = 10  # Number of epochs to wait for improvement\n",
        "#     best_val_loss = float('inf')\n",
        "#     for epoch in range(num_epochs):\n",
        "#         # Training\n",
        "\n",
        "#         model.train()\n",
        "\n",
        "\n",
        "#         for inputs, target in train_dataloader:\n",
        "#             optimizer.zero_grad()\n",
        "#             outputs = model(inputs)\n",
        "#             loss = criterion(outputs, target)\n",
        "#             loss.backward()\n",
        "#             optimizer.step()\n",
        "\n",
        "\n",
        "#         # Validation\n",
        "#         model.eval()\n",
        "#         val_loss = 0.0\n",
        "#         total_mse = 0.0\n",
        "#         total_mae = 0.0\n",
        "#         total_mape = 0.0\n",
        "#         total_samples = 0\n",
        "\n",
        "#         # with torch.no_grad():\n",
        "#         for inputs, target in val_dataloader:\n",
        "#             outputs = model(inputs)\n",
        "#             val_loss += criterion(outputs, target).item()\n",
        "\n",
        "#             mse = mse_loss(outputs, target).item()\n",
        "#             mae = L1Loss()(outputs, target).item()\n",
        "#             mape = torch.mean(torch.abs((target - outputs) / target)).item() * 100\n",
        "\n",
        "#             total_mse += mse\n",
        "#             total_mae += mae\n",
        "#             total_mape += mape\n",
        "#             total_samples += len(target)\n",
        "\n",
        "#         try:\n",
        "#             val_loss /= len(val_dataloader)\n",
        "#         except ZeroDivisionError as e:\n",
        "#             val_loss = float('inf')\n",
        "\n",
        "#         try:\n",
        "#             mse_avg = total_mse / total_samples\n",
        "#         except ZeroDivisionError as e:\n",
        "#             mse_avg = float('inf')\n",
        "\n",
        "#         try:\n",
        "#             mae_avg = total_mae / total_samples\n",
        "#         except ZeroDivisionError as e:\n",
        "#             mae_avg = float('inf')\n",
        "\n",
        "#         try:\n",
        "#             mape_avg = total_mape / total_samples\n",
        "#         except ZeroDivisionError as e:\n",
        "#             mape_avg = float('inf')\n",
        "\n",
        "#         # mse_avg = total_mse / total_samples\n",
        "#         # mae_avg = total_mae / total_samples\n",
        "#         # mape_avg = total_mape / total_samples\n",
        "\n",
        "#         val_losses.append(val_loss)\n",
        "#         mse_values.append(mse_avg)\n",
        "#         mae_values.append(mae_avg)\n",
        "#         mape_values.append(mape_avg)\n",
        "\n",
        "#         if train_dataframe_log.empty:\n",
        "#             # train_dataframe_log = pd.DataFrame({\"Percentage of Loss\": (val_loss / sum(val_losses) * 100), \"Validation Loss\": val_loss, \"MSE\": mse_avg, \"MAE\": mae_avg, \"MAPE\": mape_avg})\n",
        "#             data = {\"Percentage of Loss\": [(val_loss / sum(val_losses) * 100)], \"Validation Loss\": [val_loss], \"MSE\": [mse_avg], \"MAE\": [mae_avg], \"MAPE\": [mape_avg]}\n",
        "#             train_dataframe_log = pd.DataFrame(data)\n",
        "#         else:\n",
        "#             # train_dataframe_log = pd.concat([train_dataframe_log, pd.DataFrame({\"Percentage of Loss\": (val_loss / sum(val_losses) * 100), \"Validation Loss\": val_loss, \"MSE\": mse_avg, \"MAE\": mae_avg, \"MAPE\": mape_avg})])\n",
        "#             data = {\"Percentage of Loss\": [(val_loss / sum(val_losses) * 100)], \"Validation Loss\": [val_loss], \"MSE\": [mse_avg], \"MAE\": [mae_avg], \"MAPE\": [mape_avg]}\n",
        "#             train_dataframe_log = pd.concat([train_dataframe_log, pd.DataFrame(data)], ignore_index=True)\n",
        "#         # Print losses, MSE, MAE, and MAPE\n",
        "#         if verbose:\n",
        "#             print(f'Epoch {epoch + 1:02d}:{num_epochs} Percentage of Loss: {val_loss / sum(val_losses) * 100:.2f}% Validation Loss: {val_loss:.4f}, MSE: {mse_avg:.4f}, MAE: {mae_avg:.4f}, MAPE: {mape_avg:.4f}%')\n",
        "\n",
        "#         if epoch == 0:\n",
        "#             torch.save(model.state_dict(), '/content/drive/MyDrive/StockPrediction/models_saved/stock_index_model.pth' if uuid is None else f'/content/drive/MyDrive/StockPrediction/models_saved/stock_index_model_{uuid}.pth')\n",
        "\n",
        "#         # Check for early stopping and save the best model\n",
        "#         if val_loss < best_val_loss:\n",
        "#             best_val_loss = val_loss\n",
        "#             early_stop_counter = 0\n",
        "#             # Save the model\n",
        "#             torch.save(model.state_dict(), '/content/drive/MyDrive/StockPrediction/models_saved/stock_index_model.pth' if uuid is None else f'/content/drive/MyDrive/StockPrediction/models_saved/stock_index_model_{uuid}.pth')\n",
        "#         else:\n",
        "#             early_stop_counter += 1\n",
        "#             if early_stop_counter >= patience:\n",
        "#                 if verbose:\n",
        "#                     print(f'Early stopping at epoch {epoch+1}!')\n",
        "#                 break\n",
        "#     model.load_state_dict(torch.load('/content/drive/MyDrive/StockPrediction/models_saved/stock_index_model.pth' if uuid is None else f'/content/drive/MyDrive/StockPrediction/models_saved/stock_index_model_{uuid}.pth'))\n",
        "#     return train_dataframe_log, '/content/drive/MyDrive/StockPrediction/models_saved/stock_index_model.pth' if uuid is None else f'/content/drive/MyDrive/StockPrediction/models_saved/stock_index_model_{uuid}.pth'"
      ]
    },
    {
      "cell_type": "code",
      "execution_count": null,
      "metadata": {
        "id": "sw-4LCwYglTj"
      },
      "outputs": [],
      "source": [
        "# _, _ = train(True)"
      ]
    },
    {
      "cell_type": "code",
      "execution_count": null,
      "metadata": {
        "id": "CRYWKuLtgluS"
      },
      "outputs": [],
      "source": [
        "# if not \"model\" in locals():\n",
        "#     model.load_state_dict(torch.load('/content/drive/MyDrive/StockPrediction/models_saved/stock_index_model.pth'))\n",
        "\n",
        "# X_real = real_world_dataset.iloc[:,:]\n",
        "# y_real = real_world_dataset[['SPX Index']]\n",
        "\n",
        "# X_real_tensor = torch.tensor(X_real.to_numpy())\n",
        "\n",
        "# y_real_tensor = torch.tensor(y_real.to_numpy())\n",
        "\n",
        "# real_dataset = SequenceDataset(X_real_tensor, y_real_tensor, sequence_length=10)\n",
        "\n",
        "# real_dataloader = DataLoader(real_dataset, generator=torch.Generator(device='cuda'))\n",
        "\n",
        "# stock_prediction = torch.empty(0)\n",
        "\n",
        "\n",
        "# stock_actual = torch.empty(0)\n",
        "\n"
      ]
    },
    {
      "cell_type": "code",
      "execution_count": null,
      "metadata": {
        "id": "SRRWvh7aiYbn"
      },
      "outputs": [],
      "source": [
        "# def test():\n",
        "#     global stock_prediction\n",
        "#     global stock_actual\n",
        "#     global model\n",
        "#     stock_prediction = torch.empty(0)\n",
        "#     stock_actual = torch.empty(0)\n",
        "#     with torch.no_grad():\n",
        "#         model.eval()\n",
        "#         for inputs, targets in real_dataloader:\n",
        "#             prediction = model(inputs)\n",
        "#             stock_prediction = torch.cat((stock_prediction, prediction), dim=0)\n",
        "#             stock_actual = torch.cat((stock_actual, targets), dim=0)\n",
        "#     stock_prediction= stock_prediction.cpu().numpy()\n",
        "#     stock_actual= stock_actual.cpu().numpy()\n",
        "\n"
      ]
    },
    {
      "cell_type": "code",
      "execution_count": null,
      "metadata": {
        "id": "ONfs5s5ii1af"
      },
      "outputs": [],
      "source": [
        "# test()"
      ]
    },
    {
      "cell_type": "code",
      "execution_count": null,
      "metadata": {
        "id": "WrBCiRgci7dT"
      },
      "outputs": [],
      "source": [
        "# def plot(title=\"Stock Index Prediction\", uuid : str = None, save: bool =False) -> str|None:\n",
        "#     global stock_actual\n",
        "#     global stock_prediction\n",
        "#     figure = plt.figure(figsize=(16,9))\n",
        "#     plt.plot(y_real[-stock_actual.reshape(-1).shape[0]:].index, stock_actual, label=\"actual\")\n",
        "#     plt.plot(y_real[-stock_actual.reshape(-1).shape[0]:].index, stock_prediction, label=\"prediction\")\n",
        "\n",
        "#     plt.xlabel(\"Time\")\n",
        "#     plt.ylabel(\"SPX Index\")\n",
        "#     plt.legend(loc=\"upper left\")\n",
        "#     plt.title(title)\n",
        "#     plt.grid(True)\n",
        "\n",
        "#     if save:\n",
        "#         save_path = str(f'/content/drive/MyDrive/StockPrediction/plot_saved/Plot-{uuid}.png')\n",
        "#         plt.savefig(save_path)\n",
        "#         plt.close(figure)\n",
        "\n",
        "#         return save_path\n",
        "#     else:\n",
        "#         plt.show()"
      ]
    },
    {
      "cell_type": "code",
      "execution_count": null,
      "metadata": {
        "id": "P0LGzSMSjDX7"
      },
      "outputs": [],
      "source": [
        "# stock_actual = scaler_index.inverse_transform(pd.DataFrame(stock_actual.reshape(-1, 1)))\n",
        "# stock_prediction = scaler_index.inverse_transform(pd.DataFrame(stock_prediction.reshape(-1, 1)))\n",
        "# plot(save=True)"
      ]
    },
    {
      "cell_type": "code",
      "execution_count": null,
      "metadata": {
        "id": "KcDeOacEjHKW"
      },
      "outputs": [],
      "source": [
        "# #list_dmodel = [56, 64, 128, 256]\n",
        "# #list_head = [1, 2, 4, 8]\n",
        "# #list_layers = [1, 2, 3]\n",
        "# #list_ff_dim = [56, 64, 128, 256, 512, 1024, 2048]\n",
        "\n",
        "# list_dmodel = [64, 128]\n",
        "# list_head = [2, 4]\n",
        "# list_layers = [2, 3]\n",
        "# list_ff_dim = [64, 256, 1024]\n",
        "\n",
        "# list_sequence = [(7, 4), (7, None), (10,4), (10,None)]\n",
        "# list_batches = [10]\n",
        "# kernel_size = [1, 5]\n",
        "\n",
        "\n",
        "# from itertools import product\n",
        "# import uuid\n",
        "# from tqdm.notebook import trange, tqdm\n",
        "\n",
        "# result_dataframe_log = pd.DataFrame()\n",
        "\n",
        "# option_clusterlist = list(product(list_batches, list_sequence, list_dmodel, list_head,  list_ff_dim, list_layers, kernel_size))\n",
        "\n",
        "# option_cleared = []\n",
        "# for batch_n, (seq, offset), d_model, n_head, ff_dim, num_layer, kernel in option_clusterlist:\n",
        "#     if ff_dim >= d_model:\n",
        "#         option_cleared.append((batch_n, seq, offset, d_model, n_head, ff_dim, num_layer, kernel))\n",
        "\n",
        "# for i in trange(len(option_cleared), desc='Testing Transformer Options'):\n",
        "\n",
        "#     batch_n, seq, offset, d_model, n_head, ff_dim, num_layer, kernel = option_cleared[i]\n",
        "\n",
        "#     myuuid = str(uuid.uuid4())\n",
        "\n",
        "#     train_sequence = SequenceDataset(X_train_tensor, y_train_tensor, sequence_length=seq, offset=offset)\n",
        "#     test_sequence = SequenceDataset(X_test_tensor, y_test_tensor, sequence_length=seq, offset=offset)\n",
        "\n",
        "#     train_dataloader = DataLoader(train_sequence, batch_size=batch_n, shuffle=False, generator=torch.Generator(device='cuda'))\n",
        "#     val_dataloader = DataLoader(test_sequence, batch_size=batch_n, shuffle=False, generator=torch.Generator(device='cuda'))\n",
        "\n",
        "#     model = StockIndexTransformer(train_inputs.shape[-1], train_targets.shape[-1], d_model=d_model, n_head=n_head, num_layers=num_layer, dim_feedforward=ff_dim, enable_nested_tensor=False, kernel_size=kernel)\n",
        "\n",
        "#     df, model_path = train(uuid = myuuid)\n",
        "\n",
        "#     real_dataset = SequenceDataset(X_real_tensor, y_real_tensor, sequence_length=seq)\n",
        "#     real_dataloader = DataLoader(real_dataset,  batch_size=batch_n, generator=torch.Generator(device='cuda'))\n",
        "\n",
        "#     test()\n",
        "\n",
        "#     if stock_actual.size == 0:\n",
        "#         continue\n",
        "\n",
        "#     stock_actual = scaler_index.inverse_transform(pd.DataFrame(stock_actual.reshape(-1, 1), columns=['SPX Index']))\n",
        "#     stock_prediction = scaler_index.inverse_transform(pd.DataFrame(stock_prediction.reshape(-1, 1), columns=['SPX Index']))\n",
        "\n",
        "#     squared_differences = np.square(np.subtract(stock_actual, stock_prediction))\n",
        "#     mean_squared_error = np.mean(squared_differences)\n",
        "#     rmse = np.sqrt(mean_squared_error)\n",
        "\n",
        "#     plot_path = plot(f\"{myuuid} with d_model={d_model}, n_head={n_head}, ff_dim={ff_dim}, num_layers={num_layer}, kernel_size={kernel}\" ,myuuid, True )\n",
        "\n",
        "#     data_frame = pd.DataFrame({'ID': [myuuid], \"RMSE\": [rmse], \"ModelPlot\": [plot_path], \"ModelTrain\":[model_path]})\n",
        "#     training_df = pd.DataFrame({'d_model':[d_model], 'n_head':[n_head], 'ff_dim':[ff_dim], 'kernel_size': [kernel], 'num_layers':[num_layer], 'batch_n':[batch_n], 'sequence_s':[seq], 'offset':[offset if offset is not None else 0]})\n",
        "\n",
        "#     toexcell = data_frame.join(training_df, how='cross').join(df, how='cross')\n",
        "\n",
        "#     try:\n",
        "#         result_dataframe_log = pd.read_excel(\"TrainingData.xlsx\", sheet_name=\"Data\")\n",
        "#         result_dataframe_log = pd.concat([result_dataframe_log, toexcell])\n",
        "#     except FileNotFoundError:\n",
        "#         result_dataframe_log = toexcell\n",
        "\n",
        "#     try:\n",
        "#         writer = pd.ExcelWriter(\"TrainingData.xlsx\", engine=\"openpyxl\", mode='a', if_sheet_exists='overlay')\n",
        "#     except FileNotFoundError:\n",
        "#         writer = pd.ExcelWriter(\"TrainingData.xlsx\",  engine=\"openpyxl\",  mode='x')\n",
        "#     finally:\n",
        "#         result_dataframe_log.to_excel(writer, sheet_name=\"Data\", index=False)\n",
        "#         writer.close()\n"
      ]
    }
  ],
  "metadata": {
    "accelerator": "GPU",
    "colab": {
      "gpuType": "T4",
      "provenance": [],
      "include_colab_link": true
    },
    "kernelspec": {
      "display_name": "Python 3",
      "name": "python3"
    },
    "language_info": {
      "name": "python"
    },
    "widgets": {
      "application/vnd.jupyter.widget-state+json": {
        "b5af9089381d47e1ad9cdc720f6f723b": {
          "model_module": "@jupyter-widgets/controls",
          "model_name": "HBoxModel",
          "model_module_version": "1.5.0",
          "state": {
            "_dom_classes": [],
            "_model_module": "@jupyter-widgets/controls",
            "_model_module_version": "1.5.0",
            "_model_name": "HBoxModel",
            "_view_count": null,
            "_view_module": "@jupyter-widgets/controls",
            "_view_module_version": "1.5.0",
            "_view_name": "HBoxView",
            "box_style": "",
            "children": [
              "IPY_MODEL_1403003f14454cd0936cce07e3d6f756",
              "IPY_MODEL_97ac2baf620045bbb661bd53e8e844e9",
              "IPY_MODEL_64ef8a3b352a48d2a16e58022df5fab1"
            ],
            "layout": "IPY_MODEL_51fc86da13da4c078874940050dcb2e4"
          }
        },
        "1403003f14454cd0936cce07e3d6f756": {
          "model_module": "@jupyter-widgets/controls",
          "model_name": "HTMLModel",
          "model_module_version": "1.5.0",
          "state": {
            "_dom_classes": [],
            "_model_module": "@jupyter-widgets/controls",
            "_model_module_version": "1.5.0",
            "_model_name": "HTMLModel",
            "_view_count": null,
            "_view_module": "@jupyter-widgets/controls",
            "_view_module_version": "1.5.0",
            "_view_name": "HTMLView",
            "description": "",
            "description_tooltip": null,
            "layout": "IPY_MODEL_87997badb3814f768e893b7fc1175fdd",
            "placeholder": "​",
            "style": "IPY_MODEL_48f8c17e262d468490ed94f7a4b9471b",
            "value": "Creazione e addestramento modelli:   2%"
          }
        },
        "97ac2baf620045bbb661bd53e8e844e9": {
          "model_module": "@jupyter-widgets/controls",
          "model_name": "FloatProgressModel",
          "model_module_version": "1.5.0",
          "state": {
            "_dom_classes": [],
            "_model_module": "@jupyter-widgets/controls",
            "_model_module_version": "1.5.0",
            "_model_name": "FloatProgressModel",
            "_view_count": null,
            "_view_module": "@jupyter-widgets/controls",
            "_view_module_version": "1.5.0",
            "_view_name": "ProgressView",
            "bar_style": "danger",
            "description": "",
            "description_tooltip": null,
            "layout": "IPY_MODEL_7a75348c7e8e4d3c9cba4ad301fcb66b",
            "max": 96,
            "min": 0,
            "orientation": "horizontal",
            "style": "IPY_MODEL_877ce77db42f4e56971d62e05ec49481",
            "value": 2
          }
        },
        "64ef8a3b352a48d2a16e58022df5fab1": {
          "model_module": "@jupyter-widgets/controls",
          "model_name": "HTMLModel",
          "model_module_version": "1.5.0",
          "state": {
            "_dom_classes": [],
            "_model_module": "@jupyter-widgets/controls",
            "_model_module_version": "1.5.0",
            "_model_name": "HTMLModel",
            "_view_count": null,
            "_view_module": "@jupyter-widgets/controls",
            "_view_module_version": "1.5.0",
            "_view_name": "HTMLView",
            "description": "",
            "description_tooltip": null,
            "layout": "IPY_MODEL_dbf695c8204c471dbed5c5c810844a49",
            "placeholder": "​",
            "style": "IPY_MODEL_c1a87f3a0e3348e4bb9d39b04daff91f",
            "value": " 2/96 [00:13&lt;09:08,  5.83s/it]"
          }
        },
        "51fc86da13da4c078874940050dcb2e4": {
          "model_module": "@jupyter-widgets/base",
          "model_name": "LayoutModel",
          "model_module_version": "1.2.0",
          "state": {
            "_model_module": "@jupyter-widgets/base",
            "_model_module_version": "1.2.0",
            "_model_name": "LayoutModel",
            "_view_count": null,
            "_view_module": "@jupyter-widgets/base",
            "_view_module_version": "1.2.0",
            "_view_name": "LayoutView",
            "align_content": null,
            "align_items": null,
            "align_self": null,
            "border": null,
            "bottom": null,
            "display": null,
            "flex": null,
            "flex_flow": null,
            "grid_area": null,
            "grid_auto_columns": null,
            "grid_auto_flow": null,
            "grid_auto_rows": null,
            "grid_column": null,
            "grid_gap": null,
            "grid_row": null,
            "grid_template_areas": null,
            "grid_template_columns": null,
            "grid_template_rows": null,
            "height": null,
            "justify_content": null,
            "justify_items": null,
            "left": null,
            "margin": null,
            "max_height": null,
            "max_width": null,
            "min_height": null,
            "min_width": null,
            "object_fit": null,
            "object_position": null,
            "order": null,
            "overflow": null,
            "overflow_x": null,
            "overflow_y": null,
            "padding": null,
            "right": null,
            "top": null,
            "visibility": null,
            "width": null
          }
        },
        "87997badb3814f768e893b7fc1175fdd": {
          "model_module": "@jupyter-widgets/base",
          "model_name": "LayoutModel",
          "model_module_version": "1.2.0",
          "state": {
            "_model_module": "@jupyter-widgets/base",
            "_model_module_version": "1.2.0",
            "_model_name": "LayoutModel",
            "_view_count": null,
            "_view_module": "@jupyter-widgets/base",
            "_view_module_version": "1.2.0",
            "_view_name": "LayoutView",
            "align_content": null,
            "align_items": null,
            "align_self": null,
            "border": null,
            "bottom": null,
            "display": null,
            "flex": null,
            "flex_flow": null,
            "grid_area": null,
            "grid_auto_columns": null,
            "grid_auto_flow": null,
            "grid_auto_rows": null,
            "grid_column": null,
            "grid_gap": null,
            "grid_row": null,
            "grid_template_areas": null,
            "grid_template_columns": null,
            "grid_template_rows": null,
            "height": null,
            "justify_content": null,
            "justify_items": null,
            "left": null,
            "margin": null,
            "max_height": null,
            "max_width": null,
            "min_height": null,
            "min_width": null,
            "object_fit": null,
            "object_position": null,
            "order": null,
            "overflow": null,
            "overflow_x": null,
            "overflow_y": null,
            "padding": null,
            "right": null,
            "top": null,
            "visibility": null,
            "width": null
          }
        },
        "48f8c17e262d468490ed94f7a4b9471b": {
          "model_module": "@jupyter-widgets/controls",
          "model_name": "DescriptionStyleModel",
          "model_module_version": "1.5.0",
          "state": {
            "_model_module": "@jupyter-widgets/controls",
            "_model_module_version": "1.5.0",
            "_model_name": "DescriptionStyleModel",
            "_view_count": null,
            "_view_module": "@jupyter-widgets/base",
            "_view_module_version": "1.2.0",
            "_view_name": "StyleView",
            "description_width": ""
          }
        },
        "7a75348c7e8e4d3c9cba4ad301fcb66b": {
          "model_module": "@jupyter-widgets/base",
          "model_name": "LayoutModel",
          "model_module_version": "1.2.0",
          "state": {
            "_model_module": "@jupyter-widgets/base",
            "_model_module_version": "1.2.0",
            "_model_name": "LayoutModel",
            "_view_count": null,
            "_view_module": "@jupyter-widgets/base",
            "_view_module_version": "1.2.0",
            "_view_name": "LayoutView",
            "align_content": null,
            "align_items": null,
            "align_self": null,
            "border": null,
            "bottom": null,
            "display": null,
            "flex": null,
            "flex_flow": null,
            "grid_area": null,
            "grid_auto_columns": null,
            "grid_auto_flow": null,
            "grid_auto_rows": null,
            "grid_column": null,
            "grid_gap": null,
            "grid_row": null,
            "grid_template_areas": null,
            "grid_template_columns": null,
            "grid_template_rows": null,
            "height": null,
            "justify_content": null,
            "justify_items": null,
            "left": null,
            "margin": null,
            "max_height": null,
            "max_width": null,
            "min_height": null,
            "min_width": null,
            "object_fit": null,
            "object_position": null,
            "order": null,
            "overflow": null,
            "overflow_x": null,
            "overflow_y": null,
            "padding": null,
            "right": null,
            "top": null,
            "visibility": null,
            "width": null
          }
        },
        "877ce77db42f4e56971d62e05ec49481": {
          "model_module": "@jupyter-widgets/controls",
          "model_name": "ProgressStyleModel",
          "model_module_version": "1.5.0",
          "state": {
            "_model_module": "@jupyter-widgets/controls",
            "_model_module_version": "1.5.0",
            "_model_name": "ProgressStyleModel",
            "_view_count": null,
            "_view_module": "@jupyter-widgets/base",
            "_view_module_version": "1.2.0",
            "_view_name": "StyleView",
            "bar_color": null,
            "description_width": ""
          }
        },
        "dbf695c8204c471dbed5c5c810844a49": {
          "model_module": "@jupyter-widgets/base",
          "model_name": "LayoutModel",
          "model_module_version": "1.2.0",
          "state": {
            "_model_module": "@jupyter-widgets/base",
            "_model_module_version": "1.2.0",
            "_model_name": "LayoutModel",
            "_view_count": null,
            "_view_module": "@jupyter-widgets/base",
            "_view_module_version": "1.2.0",
            "_view_name": "LayoutView",
            "align_content": null,
            "align_items": null,
            "align_self": null,
            "border": null,
            "bottom": null,
            "display": null,
            "flex": null,
            "flex_flow": null,
            "grid_area": null,
            "grid_auto_columns": null,
            "grid_auto_flow": null,
            "grid_auto_rows": null,
            "grid_column": null,
            "grid_gap": null,
            "grid_row": null,
            "grid_template_areas": null,
            "grid_template_columns": null,
            "grid_template_rows": null,
            "height": null,
            "justify_content": null,
            "justify_items": null,
            "left": null,
            "margin": null,
            "max_height": null,
            "max_width": null,
            "min_height": null,
            "min_width": null,
            "object_fit": null,
            "object_position": null,
            "order": null,
            "overflow": null,
            "overflow_x": null,
            "overflow_y": null,
            "padding": null,
            "right": null,
            "top": null,
            "visibility": null,
            "width": null
          }
        },
        "c1a87f3a0e3348e4bb9d39b04daff91f": {
          "model_module": "@jupyter-widgets/controls",
          "model_name": "DescriptionStyleModel",
          "model_module_version": "1.5.0",
          "state": {
            "_model_module": "@jupyter-widgets/controls",
            "_model_module_version": "1.5.0",
            "_model_name": "DescriptionStyleModel",
            "_view_count": null,
            "_view_module": "@jupyter-widgets/base",
            "_view_module_version": "1.2.0",
            "_view_name": "StyleView",
            "description_width": ""
          }
        }
      }
    }
  },
  "nbformat": 4,
  "nbformat_minor": 0
}